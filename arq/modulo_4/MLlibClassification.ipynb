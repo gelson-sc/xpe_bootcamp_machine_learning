{
 "cells": [
  {
   "cell_type": "markdown",
   "source": [
    "Para a construção de um modelo utilizando o Spark e MLlib são necessários 6 passos:\n\n#1) Construir e iniciar a seção SPARK\n#2) Implementar o carregamento dos dados para o spark: Carregar o arquivo, especificar o formato desejado e lê os dados como um Dataframe do Spark\n#3) Identificar as características a serem utilizadas para treinamento e teste do modelo\n#4) Instanciar as classes e os objetos dos algoritmos a serem utilizados\n#5) Utilizar o método fit() para realizar o treinamento do modelo\n#5) Avaliar o modelo"
   ],
   "metadata": {}
  },
  {
   "cell_type": "code",
   "source": [
    "from pyspark.ml.classification import LogisticRegression as LR  # utilizada para importar a classificação através da regressão logística\nfrom pyspark.ml.feature import VectorAssembler #Utilizada para construir o vetor/matriz que vamos utilizar para a classificação\nfrom pyspark.ml.feature import StringIndexer #Atribui a cada valor literal um valor inteiro para utilizar no algoritmo \nfrom pyspark.ml import Pipeline # Utilizada para criar o pipeline de utilização dos dados"
   ],
   "metadata": {},
   "outputs": [
    {
     "metadata": {},
     "output_type": "display_data",
     "data": {
      "text/html": [
       "<style scoped>\n  .ansiout {\n    display: block;\n    unicode-bidi: embed;\n    white-space: pre-wrap;\n    word-wrap: break-word;\n    word-break: break-all;\n    font-family: \"Source Code Pro\", \"Menlo\", monospace;;\n    font-size: 13px;\n    color: #555;\n    margin-left: 4px;\n    line-height: 19px;\n  }\n</style>\n<div class=\"ansiout\"></div>"
      ]
     }
    }
   ],
   "execution_count": 2
  },
  {
   "cell_type": "code",
   "source": [
    "from pyspark.sql import SparkSession #importa a biblioteca que cria a seção do spark"
   ],
   "metadata": {},
   "outputs": [
    {
     "metadata": {},
     "output_type": "display_data",
     "data": {
      "text/html": [
       "<style scoped>\n  .ansiout {\n    display: block;\n    unicode-bidi: embed;\n    white-space: pre-wrap;\n    word-wrap: break-word;\n    word-break: break-all;\n    font-family: \"Source Code Pro\", \"Menlo\", monospace;;\n    font-size: 13px;\n    color: #555;\n    margin-left: 4px;\n    line-height: 19px;\n  }\n</style>\n<div class=\"ansiout\"></div>"
      ]
     }
    }
   ],
   "execution_count": 3
  },
  {
   "cell_type": "code",
   "source": [
    "#inicia a seção para a utilização do spark\nspark = SparkSession.builder.appName(\"ClassificadorVinhos\").getOrCreate() #cria a seção caso não exista ou obtém a já criada"
   ],
   "metadata": {},
   "outputs": [
    {
     "metadata": {},
     "output_type": "display_data",
     "data": {
      "text/html": [
       "<style scoped>\n  .ansiout {\n    display: block;\n    unicode-bidi: embed;\n    white-space: pre-wrap;\n    word-wrap: break-word;\n    word-break: break-all;\n    font-family: \"Source Code Pro\", \"Menlo\", monospace;;\n    font-size: 13px;\n    color: #555;\n    margin-left: 4px;\n    line-height: 19px;\n  }\n</style>\n<div class=\"ansiout\"></div>"
      ]
     }
    }
   ],
   "execution_count": 4
  },
  {
   "cell_type": "code",
   "source": [
    "%fs ls /FileStore/tables"
   ],
   "metadata": {},
   "outputs": [
    {
     "metadata": {},
     "output_type": "display_data",
     "data": {
      "text/html": [
       "<style scoped>\n  .table-result-container {\n    max-height: 300px;\n    overflow: auto;\n  }\n  table, th, td {\n    border: 1px solid black;\n    border-collapse: collapse;\n  }\n  th, td {\n    padding: 5px;\n  }\n  th {\n    text-align: left;\n  }\n</style><div class='table-result-container'><table class='table-result'><thead style='background-color: white'><tr><th>path</th><th>name</th><th>size</th></tr></thead><tbody><tr><td>dbfs:/FileStore/tables/d1995_07_01-24d0c.json</td><td>d1995_07_01-24d0c.json</td><td>7451741</td></tr><tr><td>dbfs:/FileStore/tables/d1995_07_02-c3f44.json</td><td>d1995_07_02-c3f44.json</td><td>9572086</td></tr><tr><td>dbfs:/FileStore/tables/d1995_07_03-f99af.json</td><td>d1995_07_03-f99af.json</td><td>14125303</td></tr><tr><td>dbfs:/FileStore/tables/d1995_07_04-c5a7f.json</td><td>d1995_07_04-c5a7f.json</td><td>12030333</td></tr><tr><td>dbfs:/FileStore/tables/d1995_07_05-0f261.json</td><td>d1995_07_05-0f261.json</td><td>14662194</td></tr><tr><td>dbfs:/FileStore/tables/d1995_07_06-20619.json</td><td>d1995_07_06-20619.json</td><td>15557682</td></tr><tr><td>dbfs:/FileStore/tables/d1995_07_07-2dd8d.json</td><td>d1995_07_07-2dd8d.json</td><td>15279295</td></tr><tr><td>dbfs:/FileStore/tables/d1995_07_08-83302.json</td><td>d1995_07_08-83302.json</td><td>7033852</td></tr><tr><td>dbfs:/FileStore/tables/d1995_07_09-f75d3.json</td><td>d1995_07_09-f75d3.json</td><td>5589076</td></tr><tr><td>dbfs:/FileStore/tables/d1995_07_10-160a3.json</td><td>d1995_07_10-160a3.json</td><td>10616482</td></tr><tr><td>dbfs:/FileStore/tables/d1995_07_11-8800f.json</td><td>d1995_07_11-8800f.json</td><td>12486245</td></tr><tr><td>dbfs:/FileStore/tables/d1995_07_12-3091c.json</td><td>d1995_07_12-3091c.json</td><td>14080494</td></tr><tr><td>dbfs:/FileStore/tables/d1995_07_13-242b2.json</td><td>d1995_07_13-242b2.json</td><td>21989188</td></tr><tr><td>dbfs:/FileStore/tables/d1995_07_14-bab67.json</td><td>d1995_07_14-bab67.json</td><td>13780636</td></tr><tr><td>dbfs:/FileStore/tables/d1995_07_15-57e08.json</td><td>d1995_07_15-57e08.json</td><td>8057272</td></tr><tr><td>dbfs:/FileStore/tables/d1995_07_16-2ca03.json</td><td>d1995_07_16-2ca03.json</td><td>7171848</td></tr><tr><td>dbfs:/FileStore/tables/d1995_07_17-905a5.json</td><td>d1995_07_17-905a5.json</td><td>11897536</td></tr><tr><td>dbfs:/FileStore/tables/d1995_07_18-13b8b.json</td><td>d1995_07_18-13b8b.json</td><td>10569098</td></tr><tr><td>dbfs:/FileStore/tables/d1995_07_19-e2537.json</td><td>d1995_07_19-e2537.json</td><td>11515206</td></tr><tr><td>dbfs:/FileStore/tables/d1995_07_20-0f6d2.json</td><td>d1995_07_20-0f6d2.json</td><td>11049142</td></tr><tr><td>dbfs:/FileStore/tables/d1995_07_21-37a88.json</td><td>d1995_07_21-37a88.json</td><td>10475868</td></tr><tr><td>dbfs:/FileStore/tables/d1995_07_22-3b894.json</td><td>d1995_07_22-3b894.json</td><td>6028420</td></tr><tr><td>dbfs:/FileStore/tables/d1995_07_23-8d606.json</td><td>d1995_07_23-8d606.json</td><td>5620028</td></tr><tr><td>dbfs:/FileStore/tables/d1995_07_24-bcae5.json</td><td>d1995_07_24-bcae5.json</td><td>10433367</td></tr><tr><td>dbfs:/FileStore/tables/d1995_07_25-22c14.json</td><td>d1995_07_25-22c14.json</td><td>9883055</td></tr><tr><td>dbfs:/FileStore/tables/d1995_07_26-8a504.json</td><td>d1995_07_26-8a504.json</td><td>9087395</td></tr><tr><td>dbfs:/FileStore/tables/d1995_07_27-32f69.json</td><td>d1995_07_27-32f69.json</td><td>10172162</td></tr><tr><td>dbfs:/FileStore/tables/d1995_07_28-8d6d2.json</td><td>d1995_07_28-8d6d2.json</td><td>6206927</td></tr><tr><td>dbfs:/FileStore/tables/winequality_red-42ff5.csv</td><td>winequality_red-42ff5.csv</td><td>84199</td></tr></tbody></table></div>"
      ]
     }
    }
   ],
   "execution_count": 5
  },
  {
   "cell_type": "code",
   "source": [
    "diretorioDataset=\"/FileStore/tables/winequality_red-42ff5.csv\""
   ],
   "metadata": {},
   "outputs": [
    {
     "metadata": {},
     "output_type": "display_data",
     "data": {
      "text/html": [
       "<style scoped>\n  .ansiout {\n    display: block;\n    unicode-bidi: embed;\n    white-space: pre-wrap;\n    word-wrap: break-word;\n    word-break: break-all;\n    font-family: \"Source Code Pro\", \"Menlo\", monospace;;\n    font-size: 13px;\n    color: #555;\n    margin-left: 4px;\n    line-height: 19px;\n  }\n</style>\n<div class=\"ansiout\"></div>"
      ]
     }
    }
   ],
   "execution_count": 6
  },
  {
   "cell_type": "code",
   "source": [
    "#realiza a carga do dataset\nwine_df = spark.read.format(\"csv\"). \\\n    options(header=\"true\",\\\n    inferschema=\"true\",sep=';'). \\\n    load(diretorioDataset)"
   ],
   "metadata": {},
   "outputs": [
    {
     "metadata": {},
     "output_type": "display_data",
     "data": {
      "text/html": [
       "<style scoped>\n  .ansiout {\n    display: block;\n    unicode-bidi: embed;\n    white-space: pre-wrap;\n    word-wrap: break-word;\n    word-break: break-all;\n    font-family: \"Source Code Pro\", \"Menlo\", monospace;;\n    font-size: 13px;\n    color: #555;\n    margin-left: 4px;\n    line-height: 19px;\n  }\n</style>\n<div class=\"ansiout\"></div>"
      ]
     }
    }
   ],
   "execution_count": 7
  },
  {
   "cell_type": "code",
   "source": [
    "#realiza o print do esquema do dataframe\nwine_df.printSchema()"
   ],
   "metadata": {},
   "outputs": [
    {
     "metadata": {},
     "output_type": "display_data",
     "data": {
      "text/html": [
       "<style scoped>\n  .ansiout {\n    display: block;\n    unicode-bidi: embed;\n    white-space: pre-wrap;\n    word-wrap: break-word;\n    word-break: break-all;\n    font-family: \"Source Code Pro\", \"Menlo\", monospace;;\n    font-size: 13px;\n    color: #555;\n    margin-left: 4px;\n    line-height: 19px;\n  }\n</style>\n<div class=\"ansiout\">root\n-- fixed acidity: double (nullable = true)\n-- volatile acidity: double (nullable = true)\n-- citric acid: double (nullable = true)\n-- residual sugar: double (nullable = true)\n-- chlorides: double (nullable = true)\n-- free sulfur dioxide: double (nullable = true)\n-- total sulfur dioxide: double (nullable = true)\n-- density: double (nullable = true)\n-- pH: double (nullable = true)\n-- sulphates: double (nullable = true)\n-- alcohol: double (nullable = true)\n-- quality: integer (nullable = true)\n\n</div>"
      ]
     }
    }
   ],
   "execution_count": 8
  },
  {
   "cell_type": "code",
   "source": [
    "#realiza o print do dataset\nwine_df.show(15)"
   ],
   "metadata": {},
   "outputs": [
    {
     "metadata": {},
     "output_type": "display_data",
     "data": {
      "text/html": [
       "<style scoped>\n  .ansiout {\n    display: block;\n    unicode-bidi: embed;\n    white-space: pre-wrap;\n    word-wrap: break-word;\n    word-break: break-all;\n    font-family: \"Source Code Pro\", \"Menlo\", monospace;;\n    font-size: 13px;\n    color: #555;\n    margin-left: 4px;\n    line-height: 19px;\n  }\n</style>\n<div class=\"ansiout\">+-------------+----------------+-----------+--------------+---------+-------------------+--------------------+-------+----+---------+-------+-------+\nfixed acidity|volatile acidity|citric acid|residual sugar|chlorides|free sulfur dioxide|total sulfur dioxide|density|  pH|sulphates|alcohol|quality|\n+-------------+----------------+-----------+--------------+---------+-------------------+--------------------+-------+----+---------+-------+-------+\n          7.4|             0.7|        0.0|           1.9|    0.076|               11.0|                34.0| 0.9978|3.51|     0.56|    9.4|      5|\n          7.8|            0.88|        0.0|           2.6|    0.098|               25.0|                67.0| 0.9968| 3.2|     0.68|    9.8|      5|\n          7.8|            0.76|       0.04|           2.3|    0.092|               15.0|                54.0|  0.997|3.26|     0.65|    9.8|      5|\n         11.2|            0.28|       0.56|           1.9|    0.075|               17.0|                60.0|  0.998|3.16|     0.58|    9.8|      6|\n          7.4|             0.7|        0.0|           1.9|    0.076|               11.0|                34.0| 0.9978|3.51|     0.56|    9.4|      5|\n          7.4|            0.66|        0.0|           1.8|    0.075|               13.0|                40.0| 0.9978|3.51|     0.56|    9.4|      5|\n          7.9|             0.6|       0.06|           1.6|    0.069|               15.0|                59.0| 0.9964| 3.3|     0.46|    9.4|      5|\n          7.3|            0.65|        0.0|           1.2|    0.065|               15.0|                21.0| 0.9946|3.39|     0.47|   10.0|      7|\n          7.8|            0.58|       0.02|           2.0|    0.073|                9.0|                18.0| 0.9968|3.36|     0.57|    9.5|      7|\n          7.5|             0.5|       0.36|           6.1|    0.071|               17.0|               102.0| 0.9978|3.35|      0.8|   10.5|      5|\n          6.7|            0.58|       0.08|           1.8|    0.097|               15.0|                65.0| 0.9959|3.28|     0.54|    9.2|      5|\n          7.5|             0.5|       0.36|           6.1|    0.071|               17.0|               102.0| 0.9978|3.35|      0.8|   10.5|      5|\n          5.6|           0.615|        0.0|           1.6|    0.089|               16.0|                59.0| 0.9943|3.58|     0.52|    9.9|      5|\n          7.8|            0.61|       0.29|           1.6|    0.114|                9.0|                29.0| 0.9974|3.26|     1.56|    9.1|      5|\n          8.9|            0.62|       0.18|           3.8|    0.176|               52.0|               145.0| 0.9986|3.16|     0.88|    9.2|      5|\n+-------------+----------------+-----------+--------------+---------+-------------------+--------------------+-------+----+---------+-------+-------+\nonly showing top 15 rows\n\n</div>"
      ]
     }
    }
   ],
   "execution_count": 9
  },
  {
   "cell_type": "code",
   "source": [
    "#realizando um filtro para o dataframe\nwine_df.filter(wine_df.quality>7).show(5)"
   ],
   "metadata": {},
   "outputs": [
    {
     "metadata": {},
     "output_type": "display_data",
     "data": {
      "text/html": [
       "<style scoped>\n  .ansiout {\n    display: block;\n    unicode-bidi: embed;\n    white-space: pre-wrap;\n    word-wrap: break-word;\n    word-break: break-all;\n    font-family: \"Source Code Pro\", \"Menlo\", monospace;;\n    font-size: 13px;\n    color: #555;\n    margin-left: 4px;\n    line-height: 19px;\n  }\n</style>\n<div class=\"ansiout\">+-------------+----------------+-----------+--------------+---------+-------------------+--------------------+-------+----+---------+-------+-------+\nfixed acidity|volatile acidity|citric acid|residual sugar|chlorides|free sulfur dioxide|total sulfur dioxide|density|  pH|sulphates|alcohol|quality|\n+-------------+----------------+-----------+--------------+---------+-------------------+--------------------+-------+----+---------+-------+-------+\n          7.9|            0.35|       0.46|           3.6|    0.078|               15.0|                37.0| 0.9973|3.35|     0.86|   12.8|      8|\n         10.3|            0.32|       0.45|           6.4|    0.073|                5.0|                13.0| 0.9976|3.23|     0.82|   12.6|      8|\n          5.6|            0.85|       0.05|           1.4|    0.045|               12.0|                88.0| 0.9924|3.56|     0.82|   12.9|      8|\n         12.6|            0.31|       0.72|           2.2|    0.072|                6.0|                29.0| 0.9987|2.88|     0.82|    9.8|      8|\n         11.3|            0.62|       0.67|           5.2|    0.086|                6.0|                19.0| 0.9988|3.22|     0.69|   13.4|      8|\n+-------------+----------------+-----------+--------------+---------+-------------------+--------------------+-------+----+---------+-------+-------+\nonly showing top 5 rows\n\n</div>"
      ]
     }
    }
   ],
   "execution_count": 10
  },
  {
   "cell_type": "code",
   "source": [
    "#realizando um filtro para o dataframe\nwine_df.filter(wine_df.quality>8).show(5)"
   ],
   "metadata": {},
   "outputs": [
    {
     "metadata": {},
     "output_type": "display_data",
     "data": {
      "text/html": [
       "<style scoped>\n  .ansiout {\n    display: block;\n    unicode-bidi: embed;\n    white-space: pre-wrap;\n    word-wrap: break-word;\n    word-break: break-all;\n    font-family: \"Source Code Pro\", \"Menlo\", monospace;;\n    font-size: 13px;\n    color: #555;\n    margin-left: 4px;\n    line-height: 19px;\n  }\n</style>\n<div class=\"ansiout\">+-------------+----------------+-----------+--------------+---------+-------------------+--------------------+-------+---+---------+-------+-------+-----------+\nfixed acidity|volatile acidity|citric acid|residual sugar|chlorides|free sulfur dioxide|total sulfur dioxide|density| pH|sulphates|alcohol|quality|quality_new|\n+-------------+----------------+-----------+--------------+---------+-------------------+--------------------+-------+---+---------+-------+-------+-----------+\n+-------------+----------------+-----------+--------------+---------+-------------------+--------------------+-------+---+---------+-------+-------+-----------+\n\n</div>"
      ]
     }
    }
   ],
   "execution_count": 11
  },
  {
   "cell_type": "code",
   "source": [
    "#importa a função para criar uma nova coluna no dataset (similar às funções do SQL)\nfrom pyspark.sql.functions import when\n"
   ],
   "metadata": {},
   "outputs": [
    {
     "metadata": {},
     "output_type": "display_data",
     "data": {
      "text/html": [
       "<style scoped>\n  .ansiout {\n    display: block;\n    unicode-bidi: embed;\n    white-space: pre-wrap;\n    word-wrap: break-word;\n    word-break: break-all;\n    font-family: \"Source Code Pro\", \"Menlo\", monospace;;\n    font-size: 13px;\n    color: #555;\n    margin-left: 4px;\n    line-height: 19px;\n  }\n</style>\n<div class=\"ansiout\"></div>"
      ]
     }
    }
   ],
   "execution_count": 12
  },
  {
   "cell_type": "code",
   "source": [
    "#cria a nova coluna que contém a classificação como ruim, boa ou mediana\nwine_df = wine_df.withColumn('quality_new',\\\n    when(wine_df['quality']< 5, 0 ).\\\n    otherwise(when(wine_df['quality']<8,1)\\\n    .otherwise(2)))"
   ],
   "metadata": {},
   "outputs": [
    {
     "metadata": {},
     "output_type": "display_data",
     "data": {
      "text/html": [
       "<style scoped>\n  .ansiout {\n    display: block;\n    unicode-bidi: embed;\n    white-space: pre-wrap;\n    word-wrap: break-word;\n    word-break: break-all;\n    font-family: \"Source Code Pro\", \"Menlo\", monospace;;\n    font-size: 13px;\n    color: #555;\n    margin-left: 4px;\n    line-height: 19px;\n  }\n</style>\n<div class=\"ansiout\"></div>"
      ]
     }
    }
   ],
   "execution_count": 13
  },
  {
   "cell_type": "code",
   "source": [
    "#realiza o print do dataset\nwine_df.show(15)"
   ],
   "metadata": {},
   "outputs": [
    {
     "metadata": {},
     "output_type": "display_data",
     "data": {
      "text/html": [
       "<style scoped>\n  .ansiout {\n    display: block;\n    unicode-bidi: embed;\n    white-space: pre-wrap;\n    word-wrap: break-word;\n    word-break: break-all;\n    font-family: \"Source Code Pro\", \"Menlo\", monospace;;\n    font-size: 13px;\n    color: #555;\n    margin-left: 4px;\n    line-height: 19px;\n  }\n</style>\n<div class=\"ansiout\">+-------------+----------------+-----------+--------------+---------+-------------------+--------------------+-------+----+---------+-------+-------+-----------+\nfixed acidity|volatile acidity|citric acid|residual sugar|chlorides|free sulfur dioxide|total sulfur dioxide|density|  pH|sulphates|alcohol|quality|quality_new|\n+-------------+----------------+-----------+--------------+---------+-------------------+--------------------+-------+----+---------+-------+-------+-----------+\n          7.4|             0.7|        0.0|           1.9|    0.076|               11.0|                34.0| 0.9978|3.51|     0.56|    9.4|      5|          1|\n          7.8|            0.88|        0.0|           2.6|    0.098|               25.0|                67.0| 0.9968| 3.2|     0.68|    9.8|      5|          1|\n          7.8|            0.76|       0.04|           2.3|    0.092|               15.0|                54.0|  0.997|3.26|     0.65|    9.8|      5|          1|\n         11.2|            0.28|       0.56|           1.9|    0.075|               17.0|                60.0|  0.998|3.16|     0.58|    9.8|      6|          1|\n          7.4|             0.7|        0.0|           1.9|    0.076|               11.0|                34.0| 0.9978|3.51|     0.56|    9.4|      5|          1|\n          7.4|            0.66|        0.0|           1.8|    0.075|               13.0|                40.0| 0.9978|3.51|     0.56|    9.4|      5|          1|\n          7.9|             0.6|       0.06|           1.6|    0.069|               15.0|                59.0| 0.9964| 3.3|     0.46|    9.4|      5|          1|\n          7.3|            0.65|        0.0|           1.2|    0.065|               15.0|                21.0| 0.9946|3.39|     0.47|   10.0|      7|          1|\n          7.8|            0.58|       0.02|           2.0|    0.073|                9.0|                18.0| 0.9968|3.36|     0.57|    9.5|      7|          1|\n          7.5|             0.5|       0.36|           6.1|    0.071|               17.0|               102.0| 0.9978|3.35|      0.8|   10.5|      5|          1|\n          6.7|            0.58|       0.08|           1.8|    0.097|               15.0|                65.0| 0.9959|3.28|     0.54|    9.2|      5|          1|\n          7.5|             0.5|       0.36|           6.1|    0.071|               17.0|               102.0| 0.9978|3.35|      0.8|   10.5|      5|          1|\n          5.6|           0.615|        0.0|           1.6|    0.089|               16.0|                59.0| 0.9943|3.58|     0.52|    9.9|      5|          1|\n          7.8|            0.61|       0.29|           1.6|    0.114|                9.0|                29.0| 0.9974|3.26|     1.56|    9.1|      5|          1|\n          8.9|            0.62|       0.18|           3.8|    0.176|               52.0|               145.0| 0.9986|3.16|     0.88|    9.2|      5|          1|\n+-------------+----------------+-----------+--------------+---------+-------------------+--------------------+-------+----+---------+-------+-------+-----------+\nonly showing top 15 rows\n\n</div>"
      ]
     }
    }
   ],
   "execution_count": 14
  },
  {
   "cell_type": "code",
   "source": [
    "#realiza o print do dataset\nwine_df.filter(wine_df.quality_new>1).show(5)"
   ],
   "metadata": {},
   "outputs": [
    {
     "metadata": {},
     "output_type": "display_data",
     "data": {
      "text/html": [
       "<style scoped>\n  .ansiout {\n    display: block;\n    unicode-bidi: embed;\n    white-space: pre-wrap;\n    word-wrap: break-word;\n    word-break: break-all;\n    font-family: \"Source Code Pro\", \"Menlo\", monospace;;\n    font-size: 13px;\n    color: #555;\n    margin-left: 4px;\n    line-height: 19px;\n  }\n</style>\n<div class=\"ansiout\">+-------------+----------------+-----------+--------------+---------+-------------------+--------------------+-------+----+---------+-------+-------+-----------+\nfixed acidity|volatile acidity|citric acid|residual sugar|chlorides|free sulfur dioxide|total sulfur dioxide|density|  pH|sulphates|alcohol|quality|quality_new|\n+-------------+----------------+-----------+--------------+---------+-------------------+--------------------+-------+----+---------+-------+-------+-----------+\n          7.9|            0.35|       0.46|           3.6|    0.078|               15.0|                37.0| 0.9973|3.35|     0.86|   12.8|      8|          2|\n         10.3|            0.32|       0.45|           6.4|    0.073|                5.0|                13.0| 0.9976|3.23|     0.82|   12.6|      8|          2|\n          5.6|            0.85|       0.05|           1.4|    0.045|               12.0|                88.0| 0.9924|3.56|     0.82|   12.9|      8|          2|\n         12.6|            0.31|       0.72|           2.2|    0.072|                6.0|                29.0| 0.9987|2.88|     0.82|    9.8|      8|          2|\n         11.3|            0.62|       0.67|           5.2|    0.086|                6.0|                19.0| 0.9988|3.22|     0.69|   13.4|      8|          2|\n+-------------+----------------+-----------+--------------+---------+-------------------+--------------------+-------+----+---------+-------+-------+-----------+\nonly showing top 5 rows\n\n</div>"
      ]
     }
    }
   ],
   "execution_count": 15
  },
  {
   "cell_type": "code",
   "source": [
    "#converte os valores para string - não executa, é apenas transformação\nstring_index = StringIndexer(inputCol='quality_new',\\\n    outputCol='quality'+'Index')"
   ],
   "metadata": {},
   "outputs": [
    {
     "metadata": {},
     "output_type": "display_data",
     "data": {
      "text/html": [
       "<style scoped>\n  .ansiout {\n    display: block;\n    unicode-bidi: embed;\n    white-space: pre-wrap;\n    word-wrap: break-word;\n    word-break: break-all;\n    font-family: \"Source Code Pro\", \"Menlo\", monospace;;\n    font-size: 13px;\n    color: #555;\n    margin-left: 4px;\n    line-height: 19px;\n  }\n</style>\n<div class=\"ansiout\"></div>"
      ]
     }
    }
   ],
   "execution_count": 16
  },
  {
   "cell_type": "code",
   "source": [
    "#Seleciona as colunas a serem utilizadas como entradas para a classificação - não executa, é apenas transformação\nvectors = VectorAssembler(inputCols = \\\n    ['fixed acidity','volatile acidity',\\\n    'citric acid','residual sugar','chlorides',\\\n    'free sulfur dioxide', 'total sulfur dioxide', \\\n    'density','pH','sulphates', 'alcohol'],\\\n    outputCol = 'features')"
   ],
   "metadata": {},
   "outputs": [
    {
     "metadata": {},
     "output_type": "display_data",
     "data": {
      "text/html": [
       "<style scoped>\n  .ansiout {\n    display: block;\n    unicode-bidi: embed;\n    white-space: pre-wrap;\n    word-wrap: break-word;\n    word-break: break-all;\n    font-family: \"Source Code Pro\", \"Menlo\", monospace;;\n    font-size: 13px;\n    color: #555;\n    margin-left: 4px;\n    line-height: 19px;\n  }\n</style>\n<div class=\"ansiout\"></div>"
      ]
     }
    }
   ],
   "execution_count": 17
  },
  {
   "cell_type": "code",
   "source": [
    "#cria o \"novo dataframe\" - não executa, é apenas transformação\nstages = [vectors, string_index]"
   ],
   "metadata": {},
   "outputs": [
    {
     "metadata": {},
     "output_type": "display_data",
     "data": {
      "text/html": [
       "<style scoped>\n  .ansiout {\n    display: block;\n    unicode-bidi: embed;\n    white-space: pre-wrap;\n    word-wrap: break-word;\n    word-break: break-all;\n    font-family: \"Source Code Pro\", \"Menlo\", monospace;;\n    font-size: 13px;\n    color: #555;\n    margin-left: 4px;\n    line-height: 19px;\n  }\n</style>\n<div class=\"ansiout\"></div>"
      ]
     }
    }
   ],
   "execution_count": 18
  },
  {
   "cell_type": "code",
   "source": [
    "#define o pipeline\npipeline = Pipeline().setStages(stages)"
   ],
   "metadata": {},
   "outputs": [
    {
     "metadata": {},
     "output_type": "display_data",
     "data": {
      "text/html": [
       "<style scoped>\n  .ansiout {\n    display: block;\n    unicode-bidi: embed;\n    white-space: pre-wrap;\n    word-wrap: break-word;\n    word-break: break-all;\n    font-family: \"Source Code Pro\", \"Menlo\", monospace;;\n    font-size: 13px;\n    color: #555;\n    margin-left: 4px;\n    line-height: 19px;\n  }\n</style>\n<div class=\"ansiout\"></div>"
      ]
     }
    }
   ],
   "execution_count": 19
  },
  {
   "cell_type": "code",
   "source": [
    "#aplicando as transformações ao dataset - executa o comando/ação\n",
    "pipelineModel = pipeline.fit(wine_df)"
   ],
   "metadata": {},
   "outputs": [
    {
     "metadata": {},
     "output_type": "display_data",
     "data": {
      "text/html": [
       "<style scoped>\n  .ansiout {\n    display: block;\n    unicode-bidi: embed;\n    white-space: pre-wrap;\n    word-wrap: break-word;\n    word-break: break-all;\n    font-family: \"Source Code Pro\", \"Menlo\", monospace;;\n    font-size: 13px;\n    color: #555;\n    margin-left: 4px;\n    line-height: 19px;\n  }\n</style>\n<div class=\"ansiout\"></div>"
      ]
     }
    }
   ],
   "execution_count": 20
  },
  {
   "cell_type": "code",
   "source": [
    "#aplica as transformações obtidas através do pipeline\npl_data_df = pipelineModel.transform(wine_df)"
   ],
   "metadata": {},
   "outputs": [
    {
     "metadata": {},
     "output_type": "display_data",
     "data": {
      "text/html": [
       "<style scoped>\n  .ansiout {\n    display: block;\n    unicode-bidi: embed;\n    white-space: pre-wrap;\n    word-wrap: break-word;\n    word-break: break-all;\n    font-family: \"Source Code Pro\", \"Menlo\", monospace;;\n    font-size: 13px;\n    color: #555;\n    margin-left: 4px;\n    line-height: 19px;\n  }\n</style>\n<div class=\"ansiout\"></div>"
      ]
     }
    }
   ],
   "execution_count": 21
  },
  {
   "cell_type": "code",
   "source": [
    "#print do dataset após a aplicação do pipeline\npl_data_df.show(15)"
   ],
   "metadata": {},
   "outputs": [
    {
     "metadata": {},
     "output_type": "display_data",
     "data": {
      "text/html": [
       "<style scoped>\n  .ansiout {\n    display: block;\n    unicode-bidi: embed;\n    white-space: pre-wrap;\n    word-wrap: break-word;\n    word-break: break-all;\n    font-family: \"Source Code Pro\", \"Menlo\", monospace;;\n    font-size: 13px;\n    color: #555;\n    margin-left: 4px;\n    line-height: 19px;\n  }\n</style>\n<div class=\"ansiout\">+-------------+----------------+-----------+--------------+---------+-------------------+--------------------+-------+----+---------+-------+-------+-----------+--------------------+------------+\nfixed acidity|volatile acidity|citric acid|residual sugar|chlorides|free sulfur dioxide|total sulfur dioxide|density|  pH|sulphates|alcohol|quality|quality_new|            features|qualityIndex|\n+-------------+----------------+-----------+--------------+---------+-------------------+--------------------+-------+----+---------+-------+-------+-----------+--------------------+------------+\n          7.4|             0.7|        0.0|           1.9|    0.076|               11.0|                34.0| 0.9978|3.51|     0.56|    9.4|      5|          1|[7.4,0.7,0.0,1.9,...|         0.0|\n          7.8|            0.88|        0.0|           2.6|    0.098|               25.0|                67.0| 0.9968| 3.2|     0.68|    9.8|      5|          1|[7.8,0.88,0.0,2.6...|         0.0|\n          7.8|            0.76|       0.04|           2.3|    0.092|               15.0|                54.0|  0.997|3.26|     0.65|    9.8|      5|          1|[7.8,0.76,0.04,2....|         0.0|\n         11.2|            0.28|       0.56|           1.9|    0.075|               17.0|                60.0|  0.998|3.16|     0.58|    9.8|      6|          1|[11.2,0.28,0.56,1...|         0.0|\n          7.4|             0.7|        0.0|           1.9|    0.076|               11.0|                34.0| 0.9978|3.51|     0.56|    9.4|      5|          1|[7.4,0.7,0.0,1.9,...|         0.0|\n          7.4|            0.66|        0.0|           1.8|    0.075|               13.0|                40.0| 0.9978|3.51|     0.56|    9.4|      5|          1|[7.4,0.66,0.0,1.8...|         0.0|\n          7.9|             0.6|       0.06|           1.6|    0.069|               15.0|                59.0| 0.9964| 3.3|     0.46|    9.4|      5|          1|[7.9,0.6,0.06,1.6...|         0.0|\n          7.3|            0.65|        0.0|           1.2|    0.065|               15.0|                21.0| 0.9946|3.39|     0.47|   10.0|      7|          1|[7.3,0.65,0.0,1.2...|         0.0|\n          7.8|            0.58|       0.02|           2.0|    0.073|                9.0|                18.0| 0.9968|3.36|     0.57|    9.5|      7|          1|[7.8,0.58,0.02,2....|         0.0|\n          7.5|             0.5|       0.36|           6.1|    0.071|               17.0|               102.0| 0.9978|3.35|      0.8|   10.5|      5|          1|[7.5,0.5,0.36,6.1...|         0.0|\n          6.7|            0.58|       0.08|           1.8|    0.097|               15.0|                65.0| 0.9959|3.28|     0.54|    9.2|      5|          1|[6.7,0.58,0.08,1....|         0.0|\n          7.5|             0.5|       0.36|           6.1|    0.071|               17.0|               102.0| 0.9978|3.35|      0.8|   10.5|      5|          1|[7.5,0.5,0.36,6.1...|         0.0|\n          5.6|           0.615|        0.0|           1.6|    0.089|               16.0|                59.0| 0.9943|3.58|     0.52|    9.9|      5|          1|[5.6,0.615,0.0,1....|         0.0|\n          7.8|            0.61|       0.29|           1.6|    0.114|                9.0|                29.0| 0.9974|3.26|     1.56|    9.1|      5|          1|[7.8,0.61,0.29,1....|         0.0|\n          8.9|            0.62|       0.18|           3.8|    0.176|               52.0|               145.0| 0.9986|3.16|     0.88|    9.2|      5|          1|[8.9,0.62,0.18,3....|         0.0|\n+-------------+----------------+-----------+--------------+---------+-------------------+--------------------+-------+----+---------+-------+-------+-----------+--------------------+------------+\nonly showing top 15 rows\n\n</div>"
      ]
     }
    }
   ],
   "execution_count": 22
  },
  {
   "cell_type": "code",
   "source": [
    "#divide o dataset entre treinamento e teste (70% treinamento e 30% teste)\ntrain_df, test_df = pl_data_df.randomSplit([0.7,0.3])"
   ],
   "metadata": {},
   "outputs": [
    {
     "metadata": {},
     "output_type": "display_data",
     "data": {
      "text/html": [
       "<style scoped>\n  .ansiout {\n    display: block;\n    unicode-bidi: embed;\n    white-space: pre-wrap;\n    word-wrap: break-word;\n    word-break: break-all;\n    font-family: \"Source Code Pro\", \"Menlo\", monospace;;\n    font-size: 13px;\n    color: #555;\n    margin-left: 4px;\n    line-height: 19px;\n  }\n</style>\n<div class=\"ansiout\"></div>"
      ]
     }
    }
   ],
   "execution_count": 23
  },
  {
   "cell_type": "code",
   "source": [
    "train_df.show(5)"
   ],
   "metadata": {},
   "outputs": [
    {
     "metadata": {},
     "output_type": "display_data",
     "data": {
      "text/html": [
       "<style scoped>\n  .ansiout {\n    display: block;\n    unicode-bidi: embed;\n    white-space: pre-wrap;\n    word-wrap: break-word;\n    word-break: break-all;\n    font-family: \"Source Code Pro\", \"Menlo\", monospace;;\n    font-size: 13px;\n    color: #555;\n    margin-left: 4px;\n    line-height: 19px;\n  }\n</style>\n<div class=\"ansiout\">+-------------+----------------+-----------+--------------+---------+-------------------+--------------------+-------+----+---------+-------+-------+-----------+--------------------+------------+\nfixed acidity|volatile acidity|citric acid|residual sugar|chlorides|free sulfur dioxide|total sulfur dioxide|density|  pH|sulphates|alcohol|quality|quality_new|            features|qualityIndex|\n+-------------+----------------+-----------+--------------+---------+-------------------+--------------------+-------+----+---------+-------+-------+-----------+--------------------+------------+\n          4.6|            0.52|       0.15|           2.1|    0.054|                8.0|                65.0| 0.9934| 3.9|     0.56|   13.1|      4|          0|[4.6,0.52,0.15,2....|         1.0|\n          4.7|             0.6|       0.17|           2.3|    0.058|               17.0|               106.0| 0.9932|3.85|      0.6|   12.9|      6|          1|[4.7,0.6,0.17,2.3...|         0.0|\n          5.0|            0.38|       0.01|           1.6|    0.048|               26.0|                60.0|0.99084| 3.7|     0.75|   14.0|      6|          1|[5.0,0.38,0.01,1....|         0.0|\n          5.0|             0.4|        0.5|           4.3|    0.046|               29.0|                80.0| 0.9902|3.49|     0.66|   13.6|      6|          1|[5.0,0.4,0.5,4.3,...|         0.0|\n          5.0|            0.42|       0.24|           2.0|     0.06|               19.0|                50.0| 0.9917|3.72|     0.74|   14.0|      8|          2|[5.0,0.42,0.24,2....|         2.0|\n+-------------+----------------+-----------+--------------+---------+-------------------+--------------------+-------+----+---------+-------+-------+-----------+--------------------+------------+\nonly showing top 5 rows\n\n</div>"
      ]
     }
    }
   ],
   "execution_count": 24
  },
  {
   "cell_type": "code",
   "source": [
    "test_df.show(5)"
   ],
   "metadata": {},
   "outputs": [
    {
     "metadata": {},
     "output_type": "display_data",
     "data": {
      "text/html": [
       "<style scoped>\n  .ansiout {\n    display: block;\n    unicode-bidi: embed;\n    white-space: pre-wrap;\n    word-wrap: break-word;\n    word-break: break-all;\n    font-family: \"Source Code Pro\", \"Menlo\", monospace;;\n    font-size: 13px;\n    color: #555;\n    margin-left: 4px;\n    line-height: 19px;\n  }\n</style>\n<div class=\"ansiout\">+-------------+----------------+-----------+--------------+---------+-------------------+--------------------+-------+----+---------+-------+-------+-----------+--------------------+------------+\nfixed acidity|volatile acidity|citric acid|residual sugar|chlorides|free sulfur dioxide|total sulfur dioxide|density|  pH|sulphates|alcohol|quality|quality_new|            features|qualityIndex|\n+-------------+----------------+-----------+--------------+---------+-------------------+--------------------+-------+----+---------+-------+-------+-----------+--------------------+------------+\n          4.9|            0.42|        0.0|           2.1|    0.048|               16.0|                42.0|0.99154|3.71|     0.74|   14.0|      7|          1|[4.9,0.42,0.0,2.1...|         0.0|\n          5.0|            1.02|       0.04|           1.4|    0.045|               41.0|                85.0| 0.9938|3.75|     0.48|   10.5|      4|          0|[5.0,1.02,0.04,1....|         1.0|\n          5.2|            0.48|       0.04|           1.6|    0.054|               19.0|               106.0| 0.9927|3.54|     0.62|   12.2|      7|          1|[5.2,0.48,0.04,1....|         0.0|\n          5.2|           0.645|        0.0|          2.15|     0.08|               15.0|                28.0|0.99444|3.78|     0.61|   12.5|      6|          1|[5.2,0.645,0.0,2....|         0.0|\n          5.3|            0.47|       0.11|           2.2|    0.048|               16.0|                89.0|0.99182|3.54|     0.88|   13.6|      7|          1|[5.3,0.47,0.11,2....|         0.0|\n+-------------+----------------+-----------+--------------+---------+-------------------+--------------------+-------+----+---------+-------+-------+-----------+--------------------+------------+\nonly showing top 5 rows\n\n</div>"
      ]
     }
    }
   ],
   "execution_count": 25
  },
  {
   "cell_type": "code",
   "source": [
    "#instancia a classe para a execução do modelo através da regressão logística\nclassificador= LR(featuresCol = 'features', \\\n    labelCol='qualityIndex',\\\n               maxIter=50) #maximo de iterações"
   ],
   "metadata": {},
   "outputs": [
    {
     "metadata": {},
     "output_type": "display_data",
     "data": {
      "text/html": [
       "<style scoped>\n  .ansiout {\n    display: block;\n    unicode-bidi: embed;\n    white-space: pre-wrap;\n    word-wrap: break-word;\n    word-break: break-all;\n    font-family: \"Source Code Pro\", \"Menlo\", monospace;;\n    font-size: 13px;\n    color: #555;\n    margin-left: 4px;\n    line-height: 19px;\n  }\n</style>\n<div class=\"ansiout\"></div>"
      ]
     }
    }
   ],
   "execution_count": 26
  },
  {
   "cell_type": "code",
   "source": [
    "#aplica o treinamento do modelo\nmodelo = classificador.fit(train_df)"
   ],
   "metadata": {},
   "outputs": [
    {
     "metadata": {},
     "output_type": "display_data",
     "data": {
      "text/html": [
       "<style scoped>\n  .ansiout {\n    display: block;\n    unicode-bidi: embed;\n    white-space: pre-wrap;\n    word-wrap: break-word;\n    word-break: break-all;\n    font-family: \"Source Code Pro\", \"Menlo\", monospace;;\n    font-size: 13px;\n    color: #555;\n    margin-left: 4px;\n    line-height: 19px;\n  }\n</style>\n<div class=\"ansiout\"></div>"
      ]
     }
    }
   ],
   "execution_count": 27
  },
  {
   "cell_type": "code",
   "source": [
    "#obtém o sumário (dados de análise) para o modelo criado\nmodelSummary = modelo.summary"
   ],
   "metadata": {},
   "outputs": [
    {
     "metadata": {},
     "output_type": "display_data",
     "data": {
      "text/html": [
       "<style scoped>\n  .ansiout {\n    display: block;\n    unicode-bidi: embed;\n    white-space: pre-wrap;\n    word-wrap: break-word;\n    word-break: break-all;\n    font-family: \"Source Code Pro\", \"Menlo\", monospace;;\n    font-size: 13px;\n    color: #555;\n    margin-left: 4px;\n    line-height: 19px;\n  }\n</style>\n<div class=\"ansiout\"></div>"
      ]
     }
    }
   ],
   "execution_count": 28
  },
  {
   "cell_type": "code",
   "source": [
    "    # print das estatísticas do modelo\n",
    "    accuracy = modelSummary.accuracy #acurácia da classificação\n",
    "    fPR = modelSummary.weightedFalsePositiveRate #taxa de falsos positivos\n",
    "    tPR = modelSummary.weightedTruePositiveRate #taxa de verdadeiros positivos\n",
    "    fMeasure = modelSummary.weightedFMeasure() #f-score\n",
    "    precision = modelSummary.weightedPrecision #precision\n",
    "    recall = modelSummary.weightedRecall #recall\n",
    "    print(\"Acurácia: {}\\\n",
    "        Taxa de verdadeiros positivos {} F-score {} Precision {} Recall {}\"\\\n",
    "        .format(accuracy, tPR, fMeasure, precision, recall))"
   ],
   "metadata": {},
   "outputs": [
    {
     "metadata": {},
     "output_type": "display_data",
     "data": {
      "text/html": [
       "<style scoped>\n  .ansiout {\n    display: block;\n    unicode-bidi: embed;\n    white-space: pre-wrap;\n    word-wrap: break-word;\n    word-break: break-all;\n    font-family: \"Source Code Pro\", \"Menlo\", monospace;;\n    font-size: 13px;\n    color: #555;\n    margin-left: 4px;\n    line-height: 19px;\n  }\n</style>\n<div class=\"ansiout\">Acurácia: 0.9518486672398968    Taxa de verdadeiros positivos 0.9518486672398968 F-score 0.9314897179054992 Precision 0.9272766794988118 Recall 0.9518486672398968\n</div>"
      ]
     }
    }
   ],
   "execution_count": 29
  }
 ],
 "metadata": {
  "name": "MLlibClassification",
  "notebookId": 217181638823482
 },
 "nbformat": 4,
 "nbformat_minor": 0
}
