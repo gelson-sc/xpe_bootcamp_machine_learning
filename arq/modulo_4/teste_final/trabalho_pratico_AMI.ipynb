{
  "nbformat": 4,
  "nbformat_minor": 0,
  "metadata": {
    "colab": {
      "provenance": []
    },
    "kernelspec": {
      "name": "python3",
      "display_name": "Python 3"
    },
    "language_info": {
      "name": "python"
    }
  },
  "cells": [
    {
      "cell_type": "code",
      "metadata": {
        "id": "oj52_VE5JZUN"
      },
      "source": [
        "#código utilizado para a construção do trabalho prático para a disciplina de AMI do IGTI"
      ],
      "execution_count": null,
      "outputs": []
    },
    {
      "cell_type": "markdown",
      "metadata": {
        "id": "RCcY5ZQeKZbf"
      },
      "source": [
        "**Previsão de temperatura**"
      ]
    },
    {
      "cell_type": "code",
      "metadata": {
        "id": "6uwNMQmJJkat"
      },
      "source": [
        "#importando os módulos a serem utilizados\n",
        "import pandas as pd                                   #utilizado para a construção os dataframes e análise exploratória\n",
        "import numpy as np                                    #utilizado para a operações vetoriais e matriciais\n",
        "import matplotlib.pyplot as plt                       #utilizado para construção de gráficos\n",
        "from sklearn.linear_model import LinearRegression     #utilizada para a construção do modelo de regressão linear"
      ],
      "execution_count": null,
      "outputs": []
    },
    {
      "cell_type": "code",
      "metadata": {
        "id": "do4oT5QZL9Mr"
      },
      "source": [
        "#importando os dados\n",
        "IOT_temp = pd.read_csv(\"IOT-temp.csv\")"
      ],
      "execution_count": null,
      "outputs": []
    },
    {
      "cell_type": "code",
      "metadata": {
        "colab": {
          "base_uri": "https://localhost:8080/",
          "height": 203
        },
        "id": "MY5TjsohTZxa",
        "outputId": "1b345cb4-8de5-446a-915b-c08114752041"
      },
      "source": [
        "#conhecendo o dataset\n",
        "IOT_temp.head(5)"
      ],
      "execution_count": null,
      "outputs": [
        {
          "output_type": "execute_result",
          "data": {
            "text/html": [
              "<div>\n",
              "<style scoped>\n",
              "    .dataframe tbody tr th:only-of-type {\n",
              "        vertical-align: middle;\n",
              "    }\n",
              "\n",
              "    .dataframe tbody tr th {\n",
              "        vertical-align: top;\n",
              "    }\n",
              "\n",
              "    .dataframe thead th {\n",
              "        text-align: right;\n",
              "    }\n",
              "</style>\n",
              "<table border=\"1\" class=\"dataframe\">\n",
              "  <thead>\n",
              "    <tr style=\"text-align: right;\">\n",
              "      <th></th>\n",
              "      <th>id</th>\n",
              "      <th>room_id/id</th>\n",
              "      <th>noted_date</th>\n",
              "      <th>temp</th>\n",
              "      <th>out/in</th>\n",
              "    </tr>\n",
              "  </thead>\n",
              "  <tbody>\n",
              "    <tr>\n",
              "      <th>0</th>\n",
              "      <td>__export__.temp_log_196134_bd201015</td>\n",
              "      <td>Room Admin</td>\n",
              "      <td>08-12-2018 09:30</td>\n",
              "      <td>29</td>\n",
              "      <td>In</td>\n",
              "    </tr>\n",
              "    <tr>\n",
              "      <th>1</th>\n",
              "      <td>__export__.temp_log_196131_7bca51bc</td>\n",
              "      <td>Room Admin</td>\n",
              "      <td>08-12-2018 09:30</td>\n",
              "      <td>29</td>\n",
              "      <td>In</td>\n",
              "    </tr>\n",
              "    <tr>\n",
              "      <th>2</th>\n",
              "      <td>__export__.temp_log_196127_522915e3</td>\n",
              "      <td>Room Admin</td>\n",
              "      <td>08-12-2018 09:29</td>\n",
              "      <td>41</td>\n",
              "      <td>Out</td>\n",
              "    </tr>\n",
              "    <tr>\n",
              "      <th>3</th>\n",
              "      <td>__export__.temp_log_196128_be0919cf</td>\n",
              "      <td>Room Admin</td>\n",
              "      <td>08-12-2018 09:29</td>\n",
              "      <td>41</td>\n",
              "      <td>Out</td>\n",
              "    </tr>\n",
              "    <tr>\n",
              "      <th>4</th>\n",
              "      <td>__export__.temp_log_196126_d30b72fb</td>\n",
              "      <td>Room Admin</td>\n",
              "      <td>08-12-2018 09:29</td>\n",
              "      <td>31</td>\n",
              "      <td>In</td>\n",
              "    </tr>\n",
              "  </tbody>\n",
              "</table>\n",
              "</div>"
            ],
            "text/plain": [
              "                                    id  room_id/id  ... temp  out/in\n",
              "0  __export__.temp_log_196134_bd201015  Room Admin  ...   29      In\n",
              "1  __export__.temp_log_196131_7bca51bc  Room Admin  ...   29      In\n",
              "2  __export__.temp_log_196127_522915e3  Room Admin  ...   41     Out\n",
              "3  __export__.temp_log_196128_be0919cf  Room Admin  ...   41     Out\n",
              "4  __export__.temp_log_196126_d30b72fb  Room Admin  ...   31      In\n",
              "\n",
              "[5 rows x 5 columns]"
            ]
          },
          "metadata": {},
          "execution_count": 40
        }
      ]
    },
    {
      "cell_type": "markdown",
      "metadata": {
        "id": "ctjIC4VoTgJi"
      },
      "source": [
        "*Mostrando os dados*\n",
        "\n",
        "\n",
        "\n",
        "1.   id -> identificador único para cada medida.\n",
        "2.   room_id/id -> id do local onde o dispositivo foi instalado\n",
        "3.   noted_date -> data da leitura\n",
        "4.   temp -> valor da temperatura medida\n",
        "5.   out/in -> indica se o dispositivo foi instalado no ambiente interno(in) ou no ambiente externo (out)\n",
        "\n"
      ]
    },
    {
      "cell_type": "code",
      "metadata": {
        "colab": {
          "base_uri": "https://localhost:8080/"
        },
        "id": "SgTdEcBoTeIV",
        "outputId": "c2f42ea7-51bf-49ab-bf4e-130777055896"
      },
      "source": [
        "#conhecendo as características dos dados\n",
        "IOT_temp.info()"
      ],
      "execution_count": null,
      "outputs": [
        {
          "output_type": "stream",
          "name": "stdout",
          "text": [
            "<class 'pandas.core.frame.DataFrame'>\n",
            "RangeIndex: 97606 entries, 0 to 97605\n",
            "Data columns (total 5 columns):\n",
            " #   Column      Non-Null Count  Dtype \n",
            "---  ------      --------------  ----- \n",
            " 0   id          97606 non-null  object\n",
            " 1   room_id/id  97606 non-null  object\n",
            " 2   noted_date  97606 non-null  object\n",
            " 3   temp        97606 non-null  int64 \n",
            " 4   out/in      97606 non-null  object\n",
            "dtypes: int64(1), object(4)\n",
            "memory usage: 3.7+ MB\n"
          ]
        }
      ]
    },
    {
      "cell_type": "markdown",
      "metadata": {
        "id": "Fz3gP1zPV3L_"
      },
      "source": [
        "**Quantos tipos de dados distintos existem?**"
      ]
    },
    {
      "cell_type": "markdown",
      "metadata": {
        "id": "UQb6X79bV-4j"
      },
      "source": [
        "**Quantos valores nulos existem?**"
      ]
    },
    {
      "cell_type": "code",
      "metadata": {
        "colab": {
          "base_uri": "https://localhost:8080/",
          "height": 295
        },
        "id": "e5t_0CFwUgI1",
        "outputId": "863cb2ad-5ebe-4d0e-8dac-f285c793d691"
      },
      "source": [
        "#obtendo as estatísticas descritivas do dataset\n",
        "IOT_temp.describe()"
      ],
      "execution_count": null,
      "outputs": [
        {
          "output_type": "execute_result",
          "data": {
            "text/html": [
              "<div>\n",
              "<style scoped>\n",
              "    .dataframe tbody tr th:only-of-type {\n",
              "        vertical-align: middle;\n",
              "    }\n",
              "\n",
              "    .dataframe tbody tr th {\n",
              "        vertical-align: top;\n",
              "    }\n",
              "\n",
              "    .dataframe thead th {\n",
              "        text-align: right;\n",
              "    }\n",
              "</style>\n",
              "<table border=\"1\" class=\"dataframe\">\n",
              "  <thead>\n",
              "    <tr style=\"text-align: right;\">\n",
              "      <th></th>\n",
              "      <th>temp</th>\n",
              "    </tr>\n",
              "  </thead>\n",
              "  <tbody>\n",
              "    <tr>\n",
              "      <th>count</th>\n",
              "      <td>97606.000000</td>\n",
              "    </tr>\n",
              "    <tr>\n",
              "      <th>mean</th>\n",
              "      <td>35.053931</td>\n",
              "    </tr>\n",
              "    <tr>\n",
              "      <th>std</th>\n",
              "      <td>5.699825</td>\n",
              "    </tr>\n",
              "    <tr>\n",
              "      <th>min</th>\n",
              "      <td>21.000000</td>\n",
              "    </tr>\n",
              "    <tr>\n",
              "      <th>25%</th>\n",
              "      <td>30.000000</td>\n",
              "    </tr>\n",
              "    <tr>\n",
              "      <th>50%</th>\n",
              "      <td>35.000000</td>\n",
              "    </tr>\n",
              "    <tr>\n",
              "      <th>75%</th>\n",
              "      <td>40.000000</td>\n",
              "    </tr>\n",
              "    <tr>\n",
              "      <th>max</th>\n",
              "      <td>51.000000</td>\n",
              "    </tr>\n",
              "  </tbody>\n",
              "</table>\n",
              "</div>"
            ],
            "text/plain": [
              "               temp\n",
              "count  97606.000000\n",
              "mean      35.053931\n",
              "std        5.699825\n",
              "min       21.000000\n",
              "25%       30.000000\n",
              "50%       35.000000\n",
              "75%       40.000000\n",
              "max       51.000000"
            ]
          },
          "metadata": {},
          "execution_count": 42
        }
      ]
    },
    {
      "cell_type": "markdown",
      "metadata": {
        "id": "HL8qapkXUnUI"
      },
      "source": [
        "**Qual é a mediana das temperaturas medidas?**"
      ]
    },
    {
      "cell_type": "code",
      "metadata": {
        "colab": {
          "base_uri": "https://localhost:8080/"
        },
        "id": "-sGFkZAlUmHD",
        "outputId": "366d629c-3ef3-4903-82c5-7da0c71529b3"
      },
      "source": [
        "#Contando quantos valores de temperaturas são In ou Out\n",
        "IOT_temp.groupby(\"out/in\").count()['id']"
      ],
      "execution_count": null,
      "outputs": [
        {
          "output_type": "execute_result",
          "data": {
            "text/plain": [
              "out/in\n",
              "In     20345\n",
              "Out    77261\n",
              "Name: id, dtype: int64"
            ]
          },
          "metadata": {},
          "execution_count": 43
        }
      ]
    },
    {
      "cell_type": "markdown",
      "metadata": {
        "id": "leTOZaieUxAF"
      },
      "source": [
        "**Qual é o percentual dos dados de temperaturas coletados no ambiente externo (out)?**"
      ]
    },
    {
      "cell_type": "code",
      "metadata": {
        "colab": {
          "base_uri": "https://localhost:8080/",
          "height": 203
        },
        "id": "9l6q9B67VG7c",
        "outputId": "9c858ee3-ce0f-482f-c5c7-27d43ff9ae99"
      },
      "source": [
        "#separando o dataset entre valores de In e Out\n",
        "df_in=IOT_temp[IOT_temp[\"out/in\"]==\"In\"]\n",
        "df_out=IOT_temp[IOT_temp[\"out/in\"]==\"Out\"]\n",
        "df_out.head(5)"
      ],
      "execution_count": null,
      "outputs": [
        {
          "output_type": "execute_result",
          "data": {
            "text/html": [
              "<div>\n",
              "<style scoped>\n",
              "    .dataframe tbody tr th:only-of-type {\n",
              "        vertical-align: middle;\n",
              "    }\n",
              "\n",
              "    .dataframe tbody tr th {\n",
              "        vertical-align: top;\n",
              "    }\n",
              "\n",
              "    .dataframe thead th {\n",
              "        text-align: right;\n",
              "    }\n",
              "</style>\n",
              "<table border=\"1\" class=\"dataframe\">\n",
              "  <thead>\n",
              "    <tr style=\"text-align: right;\">\n",
              "      <th></th>\n",
              "      <th>id</th>\n",
              "      <th>room_id/id</th>\n",
              "      <th>noted_date</th>\n",
              "      <th>temp</th>\n",
              "      <th>out/in</th>\n",
              "    </tr>\n",
              "  </thead>\n",
              "  <tbody>\n",
              "    <tr>\n",
              "      <th>2</th>\n",
              "      <td>__export__.temp_log_196127_522915e3</td>\n",
              "      <td>Room Admin</td>\n",
              "      <td>08-12-2018 09:29</td>\n",
              "      <td>41</td>\n",
              "      <td>Out</td>\n",
              "    </tr>\n",
              "    <tr>\n",
              "      <th>3</th>\n",
              "      <td>__export__.temp_log_196128_be0919cf</td>\n",
              "      <td>Room Admin</td>\n",
              "      <td>08-12-2018 09:29</td>\n",
              "      <td>41</td>\n",
              "      <td>Out</td>\n",
              "    </tr>\n",
              "    <tr>\n",
              "      <th>10</th>\n",
              "      <td>__export__.temp_log_196108_4a983c7e</td>\n",
              "      <td>Room Admin</td>\n",
              "      <td>08-12-2018 09:25</td>\n",
              "      <td>42</td>\n",
              "      <td>Out</td>\n",
              "    </tr>\n",
              "    <tr>\n",
              "      <th>11</th>\n",
              "      <td>__export__.temp_log_196108_4a983c7e</td>\n",
              "      <td>Room Admin</td>\n",
              "      <td>08-12-2018 09:25</td>\n",
              "      <td>42</td>\n",
              "      <td>Out</td>\n",
              "    </tr>\n",
              "    <tr>\n",
              "      <th>16</th>\n",
              "      <td>__export__.temp_log_196094_38501388</td>\n",
              "      <td>Room Admin</td>\n",
              "      <td>08-12-2018 09:21</td>\n",
              "      <td>41</td>\n",
              "      <td>Out</td>\n",
              "    </tr>\n",
              "  </tbody>\n",
              "</table>\n",
              "</div>"
            ],
            "text/plain": [
              "                                     id  room_id/id  ... temp  out/in\n",
              "2   __export__.temp_log_196127_522915e3  Room Admin  ...   41     Out\n",
              "3   __export__.temp_log_196128_be0919cf  Room Admin  ...   41     Out\n",
              "10  __export__.temp_log_196108_4a983c7e  Room Admin  ...   42     Out\n",
              "11  __export__.temp_log_196108_4a983c7e  Room Admin  ...   42     Out\n",
              "16  __export__.temp_log_196094_38501388  Room Admin  ...   41     Out\n",
              "\n",
              "[5 rows x 5 columns]"
            ]
          },
          "metadata": {},
          "execution_count": 44
        }
      ]
    },
    {
      "cell_type": "code",
      "metadata": {
        "colab": {
          "base_uri": "https://localhost:8080/",
          "height": 417
        },
        "id": "igtvMlUqVKXG",
        "outputId": "8f358491-996b-43da-e0b0-1ce9a4cf6d22"
      },
      "source": [
        "#realizando o reset do indice para as medidas de temperatura interna\n",
        "df_in.reset_index(drop=True)"
      ],
      "execution_count": null,
      "outputs": [
        {
          "output_type": "execute_result",
          "data": {
            "text/html": [
              "<div>\n",
              "<style scoped>\n",
              "    .dataframe tbody tr th:only-of-type {\n",
              "        vertical-align: middle;\n",
              "    }\n",
              "\n",
              "    .dataframe tbody tr th {\n",
              "        vertical-align: top;\n",
              "    }\n",
              "\n",
              "    .dataframe thead th {\n",
              "        text-align: right;\n",
              "    }\n",
              "</style>\n",
              "<table border=\"1\" class=\"dataframe\">\n",
              "  <thead>\n",
              "    <tr style=\"text-align: right;\">\n",
              "      <th></th>\n",
              "      <th>id</th>\n",
              "      <th>room_id/id</th>\n",
              "      <th>noted_date</th>\n",
              "      <th>temp</th>\n",
              "      <th>out/in</th>\n",
              "    </tr>\n",
              "  </thead>\n",
              "  <tbody>\n",
              "    <tr>\n",
              "      <th>0</th>\n",
              "      <td>__export__.temp_log_196134_bd201015</td>\n",
              "      <td>Room Admin</td>\n",
              "      <td>08-12-2018 09:30</td>\n",
              "      <td>29</td>\n",
              "      <td>In</td>\n",
              "    </tr>\n",
              "    <tr>\n",
              "      <th>1</th>\n",
              "      <td>__export__.temp_log_196131_7bca51bc</td>\n",
              "      <td>Room Admin</td>\n",
              "      <td>08-12-2018 09:30</td>\n",
              "      <td>29</td>\n",
              "      <td>In</td>\n",
              "    </tr>\n",
              "    <tr>\n",
              "      <th>2</th>\n",
              "      <td>__export__.temp_log_196126_d30b72fb</td>\n",
              "      <td>Room Admin</td>\n",
              "      <td>08-12-2018 09:29</td>\n",
              "      <td>31</td>\n",
              "      <td>In</td>\n",
              "    </tr>\n",
              "    <tr>\n",
              "      <th>3</th>\n",
              "      <td>__export__.temp_log_196125_b0fa0b41</td>\n",
              "      <td>Room Admin</td>\n",
              "      <td>08-12-2018 09:29</td>\n",
              "      <td>31</td>\n",
              "      <td>In</td>\n",
              "    </tr>\n",
              "    <tr>\n",
              "      <th>4</th>\n",
              "      <td>__export__.temp_log_196121_01544d45</td>\n",
              "      <td>Room Admin</td>\n",
              "      <td>08-12-2018 09:28</td>\n",
              "      <td>29</td>\n",
              "      <td>In</td>\n",
              "    </tr>\n",
              "    <tr>\n",
              "      <th>...</th>\n",
              "      <td>...</td>\n",
              "      <td>...</td>\n",
              "      <td>...</td>\n",
              "      <td>...</td>\n",
              "      <td>...</td>\n",
              "    </tr>\n",
              "    <tr>\n",
              "      <th>20340</th>\n",
              "      <td>__export__.temp_log_91076_7fbd08ca</td>\n",
              "      <td>Room Admin</td>\n",
              "      <td>28-07-2018 07:07</td>\n",
              "      <td>31</td>\n",
              "      <td>In</td>\n",
              "    </tr>\n",
              "    <tr>\n",
              "      <th>20341</th>\n",
              "      <td>__export__.temp_log_147733_62c03f31</td>\n",
              "      <td>Room Admin</td>\n",
              "      <td>28-07-2018 07:07</td>\n",
              "      <td>31</td>\n",
              "      <td>In</td>\n",
              "    </tr>\n",
              "    <tr>\n",
              "      <th>20342</th>\n",
              "      <td>__export__.temp_log_100386_84093a68</td>\n",
              "      <td>Room Admin</td>\n",
              "      <td>28-07-2018 07:06</td>\n",
              "      <td>31</td>\n",
              "      <td>In</td>\n",
              "    </tr>\n",
              "    <tr>\n",
              "      <th>20343</th>\n",
              "      <td>__export__.temp_log_123297_4d8e690b</td>\n",
              "      <td>Room Admin</td>\n",
              "      <td>28-07-2018 07:06</td>\n",
              "      <td>31</td>\n",
              "      <td>In</td>\n",
              "    </tr>\n",
              "    <tr>\n",
              "      <th>20344</th>\n",
              "      <td>__export__.temp_log_133741_32958703</td>\n",
              "      <td>Room Admin</td>\n",
              "      <td>28-07-2018 07:06</td>\n",
              "      <td>31</td>\n",
              "      <td>In</td>\n",
              "    </tr>\n",
              "  </tbody>\n",
              "</table>\n",
              "<p>20345 rows × 5 columns</p>\n",
              "</div>"
            ],
            "text/plain": [
              "                                        id  room_id/id  ... temp  out/in\n",
              "0      __export__.temp_log_196134_bd201015  Room Admin  ...   29      In\n",
              "1      __export__.temp_log_196131_7bca51bc  Room Admin  ...   29      In\n",
              "2      __export__.temp_log_196126_d30b72fb  Room Admin  ...   31      In\n",
              "3      __export__.temp_log_196125_b0fa0b41  Room Admin  ...   31      In\n",
              "4      __export__.temp_log_196121_01544d45  Room Admin  ...   29      In\n",
              "...                                    ...         ...  ...  ...     ...\n",
              "20340   __export__.temp_log_91076_7fbd08ca  Room Admin  ...   31      In\n",
              "20341  __export__.temp_log_147733_62c03f31  Room Admin  ...   31      In\n",
              "20342  __export__.temp_log_100386_84093a68  Room Admin  ...   31      In\n",
              "20343  __export__.temp_log_123297_4d8e690b  Room Admin  ...   31      In\n",
              "20344  __export__.temp_log_133741_32958703  Room Admin  ...   31      In\n",
              "\n",
              "[20345 rows x 5 columns]"
            ]
          },
          "metadata": {},
          "execution_count": 45
        }
      ]
    },
    {
      "cell_type": "code",
      "metadata": {
        "colab": {
          "base_uri": "https://localhost:8080/",
          "height": 383
        },
        "id": "fHq34tBzVTmc",
        "outputId": "fa2a6884-9411-47a9-f009-ea35424b8f14"
      },
      "source": [
        "#plotando os valores (sempre bom...)\n",
        "plt.figure(figsize=(10,10))  #define o tamanho da figura\n",
        "fig=plt.figure()\n",
        "ax=fig.add_axes([0,0,1,1])\n",
        "ax.scatter(df_in.index, df_in.temp, color='r')\n",
        "ax.scatter(df_out.index, df_out.temp, color='b')\n",
        "ax.set_xlabel('Indice')\n",
        "ax.set_ylabel('Temperatura (ºC)')\n",
        "ax.legend([\"Temp_IN\", \"Temp_Out\"])\n",
        "ax.set_title('scatter plot')\n",
        "plt.show()"
      ],
      "execution_count": null,
      "outputs": [
        {
          "output_type": "display_data",
          "data": {
            "text/plain": [
              "<Figure size 720x720 with 0 Axes>"
            ]
          },
          "metadata": {}
        },
        {
          "output_type": "display_data",
          "data": {
            "image/png": "[encoded data removed]",
            "text/plain": [
              "<Figure size 432x288 with 1 Axes>"
            ]
          },
          "metadata": {
            "needs_background": "light"
          }
        }
      ]
    },
    {
      "cell_type": "code",
      "metadata": {
        "colab": {
          "base_uri": "https://localhost:8080/",
          "height": 265
        },
        "id": "8snm0n1dWG73",
        "outputId": "003b3358-8941-4019-d134-e52983175100"
      },
      "source": [
        "#identificando possíveis outliers por meio do boxplot das temperaturas internas\n",
        "df_in.boxplot(\"temp\");"
      ],
      "execution_count": null,
      "outputs": [
        {
          "output_type": "display_data",
          "data": {
            "image/png": "[encoded data removed]",
            "text/plain": [
              "<Figure size 432x288 with 1 Axes>"
            ]
          },
          "metadata": {
            "needs_background": "light"
          }
        }
      ]
    },
    {
      "cell_type": "code",
      "metadata": {
        "colab": {
          "base_uri": "https://localhost:8080/",
          "height": 265
        },
        "id": "odMybKDUWUT0",
        "outputId": "8233f166-82f8-4083-e7f9-fa3ec15fbbed"
      },
      "source": [
        "#identificando possíveis outliers por meio do boxplot das temperaturas externas\n",
        "df_out.boxplot(\"temp\");"
      ],
      "execution_count": null,
      "outputs": [
        {
          "output_type": "display_data",
          "data": {
            "image/png": "[encoded data removed]",
            "text/plain": [
              "<Figure size 432x288 with 1 Axes>"
            ]
          },
          "metadata": {
            "needs_background": "light"
          }
        }
      ]
    },
    {
      "cell_type": "markdown",
      "metadata": {
        "id": "_XE5rnxiZZLi"
      },
      "source": [
        "**Sobre o boxplot dos dados de temperatura interna(in) e externa(out), o que podemos dizer sobre os possíveis outliers?**"
      ]
    },
    {
      "cell_type": "code",
      "metadata": {
        "id": "C7vG_uTSWanP"
      },
      "source": [
        "#verificando se os dados internos possuem uma distribuição normal por meio do histograma\n",
        "temperatura=df_in.sample(n=2000,random_state=32)['temp']            #selecionando 2000 amostra dos dados"
      ],
      "execution_count": null,
      "outputs": []
    },
    {
      "cell_type": "code",
      "metadata": {
        "colab": {
          "base_uri": "https://localhost:8080/"
        },
        "id": "6jXubf3Ja-I4",
        "outputId": "047cea01-0e7c-4c7c-d5c7-d7ee4fbc40f0"
      },
      "source": [
        "temperatura"
      ],
      "execution_count": null,
      "outputs": [
        {
          "output_type": "execute_result",
          "data": {
            "text/plain": [
              "77697    30\n",
              "65783    29\n",
              "84342    28\n",
              "4598     24\n",
              "94207    32\n",
              "         ..\n",
              "812      29\n",
              "21196    31\n",
              "445      29\n",
              "97111    29\n",
              "73737    28\n",
              "Name: temp, Length: 2000, dtype: int64"
            ]
          },
          "metadata": {},
          "execution_count": 50
        }
      ]
    },
    {
      "cell_type": "code",
      "metadata": {
        "colab": {
          "base_uri": "https://localhost:8080/",
          "height": 295
        },
        "id": "EQiK2lt5atWt",
        "outputId": "83ac02a1-f998-4fcb-bd61-6feec3d39a8c"
      },
      "source": [
        "n, bins, patches = plt.hist(x=temperatura, bins='auto', color='#0504aa',\n",
        "                            alpha=0.7, rwidth=0.85)\n",
        "plt.grid(axis='y', alpha=0.75)\n",
        "plt.xlabel('Valor')\n",
        "plt.ylabel('Frequência')\n",
        "plt.title('Histograma para 2000 dados de temperatura');"
      ],
      "execution_count": null,
      "outputs": [
        {
          "output_type": "display_data",
          "data": {
            "image/png": "[encoded data removed]",
            "text/plain": [
              "<Figure size 432x288 with 1 Axes>"
            ]
          },
          "metadata": {
            "needs_background": "light"
          }
        }
      ]
    },
    {
      "cell_type": "code",
      "metadata": {
        "colab": {
          "base_uri": "https://localhost:8080/"
        },
        "id": "g5QUgShzWmpw",
        "outputId": "1f9c7d58-357f-475e-d26b-28ab0005ec37"
      },
      "source": [
        "#utilizando o teste de D’Agostino’s Test para verificar a normalidade dos dados de temperatura\n",
        "from scipy.stats import normaltest                                      #módulo utilizado para a realização do teste de normalidade\n",
        "f_valor, p_valor = normaltest(temperatura)                              #aplica o teste sobre os dados\n",
        "print('f-valor=%.3f, p-valor=%.3f' % (f_valor, p_valor))\n",
        "alpha = 0.05                                                         #nível de significância\n",
        "if p_valor > alpha:\n",
        "\tprint('Não rejeita H0')\n",
        "else:\n",
        "\tprint('Rejeita H0')"
      ],
      "execution_count": null,
      "outputs": [
        {
          "output_type": "stream",
          "name": "stdout",
          "text": [
            "f-valor=3.881, p-valor=0.144\n",
            "Não rejeita H0\n"
          ]
        }
      ]
    },
    {
      "cell_type": "markdown",
      "metadata": {
        "id": "8tktCGiQdcoV"
      },
      "source": [
        "**Analisando o histograma e o resultado do teste, o que podemos falar sobre a normalidade dos dados?**"
      ]
    },
    {
      "cell_type": "code",
      "metadata": {
        "colab": {
          "base_uri": "https://localhost:8080/"
        },
        "id": "JFWgOadpdz0O",
        "outputId": "a10cba62-ed03-41c0-eeee-945c35ec0f24"
      },
      "source": [
        "#modificando o tipo dos dados de data para o dataset das temperaturas de entrada\n",
        "df_in['noted_date']= pd.to_datetime(df_in['noted_date'],errors='coerce')\n",
        "df_in.info()"
      ],
      "execution_count": null,
      "outputs": [
        {
          "output_type": "stream",
          "name": "stdout",
          "text": [
            "<class 'pandas.core.frame.DataFrame'>\n",
            "Int64Index: 20345 entries, 0 to 97605\n",
            "Data columns (total 5 columns):\n",
            " #   Column      Non-Null Count  Dtype         \n",
            "---  ------      --------------  -----         \n",
            " 0   id          20345 non-null  object        \n",
            " 1   room_id/id  20345 non-null  object        \n",
            " 2   noted_date  20345 non-null  datetime64[ns]\n",
            " 3   temp        20345 non-null  int64         \n",
            " 4   out/in      20345 non-null  object        \n",
            "dtypes: datetime64[ns](1), int64(1), object(3)\n",
            "memory usage: 953.7+ KB\n"
          ]
        },
        {
          "output_type": "stream",
          "name": "stderr",
          "text": [
            "/usr/local/lib/python3.7/dist-packages/ipykernel_launcher.py:2: SettingWithCopyWarning: \n",
            "A value is trying to be set on a copy of a slice from a DataFrame.\n",
            "Try using .loc[row_indexer,col_indexer] = value instead\n",
            "\n",
            "See the caveats in the documentation: https://pandas.pydata.org/pandas-docs/stable/user_guide/indexing.html#returning-a-view-versus-a-copy\n",
            "  \n"
          ]
        }
      ]
    },
    {
      "cell_type": "markdown",
      "metadata": {
        "id": "mFlR0U9AeQrn"
      },
      "source": [
        "**Quantos tipos de dados existem agora no df_in?**"
      ]
    },
    {
      "cell_type": "markdown",
      "metadata": {
        "id": "JM25ZjKheXfN"
      },
      "source": [
        "**Após a transformação do tipo de dados, foram introduzidos valores nulos?**"
      ]
    },
    {
      "cell_type": "code",
      "metadata": {
        "colab": {
          "base_uri": "https://localhost:8080/",
          "height": 203
        },
        "id": "3cp_-ZKgeN5-",
        "outputId": "5281f963-f96b-4aaf-ee4c-46b1d5edf7b5"
      },
      "source": [
        "#ordenando o dataset\n",
        "df_in=df_in.sort_values(by=['noted_date'])\n",
        "df_in.head()"
      ],
      "execution_count": null,
      "outputs": [
        {
          "output_type": "execute_result",
          "data": {
            "text/html": [
              "<div>\n",
              "<style scoped>\n",
              "    .dataframe tbody tr th:only-of-type {\n",
              "        vertical-align: middle;\n",
              "    }\n",
              "\n",
              "    .dataframe tbody tr th {\n",
              "        vertical-align: top;\n",
              "    }\n",
              "\n",
              "    .dataframe thead th {\n",
              "        text-align: right;\n",
              "    }\n",
              "</style>\n",
              "<table border=\"1\" class=\"dataframe\">\n",
              "  <thead>\n",
              "    <tr style=\"text-align: right;\">\n",
              "      <th></th>\n",
              "      <th>id</th>\n",
              "      <th>room_id/id</th>\n",
              "      <th>noted_date</th>\n",
              "      <th>temp</th>\n",
              "      <th>out/in</th>\n",
              "    </tr>\n",
              "  </thead>\n",
              "  <tbody>\n",
              "    <tr>\n",
              "      <th>16218</th>\n",
              "      <td>__export__.temp_log_126924_cb744837</td>\n",
              "      <td>Room Admin</td>\n",
              "      <td>2018-01-11 00:06:00</td>\n",
              "      <td>32</td>\n",
              "      <td>In</td>\n",
              "    </tr>\n",
              "    <tr>\n",
              "      <th>16186</th>\n",
              "      <td>__export__.temp_log_128828_1f2ca69c</td>\n",
              "      <td>Room Admin</td>\n",
              "      <td>2018-01-11 02:12:00</td>\n",
              "      <td>32</td>\n",
              "      <td>In</td>\n",
              "    </tr>\n",
              "    <tr>\n",
              "      <th>16176</th>\n",
              "      <td>__export__.temp_log_142141_12bd7384</td>\n",
              "      <td>Room Admin</td>\n",
              "      <td>2018-01-11 02:44:00</td>\n",
              "      <td>32</td>\n",
              "      <td>In</td>\n",
              "    </tr>\n",
              "    <tr>\n",
              "      <th>16174</th>\n",
              "      <td>__export__.temp_log_106858_cdf61926</td>\n",
              "      <td>Room Admin</td>\n",
              "      <td>2018-01-11 02:46:00</td>\n",
              "      <td>32</td>\n",
              "      <td>In</td>\n",
              "    </tr>\n",
              "    <tr>\n",
              "      <th>16167</th>\n",
              "      <td>__export__.temp_log_120068_a0fc57cc</td>\n",
              "      <td>Room Admin</td>\n",
              "      <td>2018-01-11 02:58:00</td>\n",
              "      <td>31</td>\n",
              "      <td>In</td>\n",
              "    </tr>\n",
              "  </tbody>\n",
              "</table>\n",
              "</div>"
            ],
            "text/plain": [
              "                                        id  room_id/id  ... temp  out/in\n",
              "16218  __export__.temp_log_126924_cb744837  Room Admin  ...   32      In\n",
              "16186  __export__.temp_log_128828_1f2ca69c  Room Admin  ...   32      In\n",
              "16176  __export__.temp_log_142141_12bd7384  Room Admin  ...   32      In\n",
              "16174  __export__.temp_log_106858_cdf61926  Room Admin  ...   32      In\n",
              "16167  __export__.temp_log_120068_a0fc57cc  Room Admin  ...   31      In\n",
              "\n",
              "[5 rows x 5 columns]"
            ]
          },
          "metadata": {},
          "execution_count": 54
        }
      ]
    },
    {
      "cell_type": "code",
      "metadata": {
        "colab": {
          "base_uri": "https://localhost:8080/",
          "height": 417
        },
        "id": "uJLcwiJrgPTh",
        "outputId": "787c6f01-5fb4-4f77-bee0-5a20b46f5edc"
      },
      "source": [
        "#aplicando o reset de index\n",
        "df_in.reset_index(drop=True)"
      ],
      "execution_count": null,
      "outputs": [
        {
          "output_type": "execute_result",
          "data": {
            "text/html": [
              "<div>\n",
              "<style scoped>\n",
              "    .dataframe tbody tr th:only-of-type {\n",
              "        vertical-align: middle;\n",
              "    }\n",
              "\n",
              "    .dataframe tbody tr th {\n",
              "        vertical-align: top;\n",
              "    }\n",
              "\n",
              "    .dataframe thead th {\n",
              "        text-align: right;\n",
              "    }\n",
              "</style>\n",
              "<table border=\"1\" class=\"dataframe\">\n",
              "  <thead>\n",
              "    <tr style=\"text-align: right;\">\n",
              "      <th></th>\n",
              "      <th>id</th>\n",
              "      <th>room_id/id</th>\n",
              "      <th>noted_date</th>\n",
              "      <th>temp</th>\n",
              "      <th>out/in</th>\n",
              "    </tr>\n",
              "  </thead>\n",
              "  <tbody>\n",
              "    <tr>\n",
              "      <th>0</th>\n",
              "      <td>__export__.temp_log_126924_cb744837</td>\n",
              "      <td>Room Admin</td>\n",
              "      <td>2018-01-11 00:06:00</td>\n",
              "      <td>32</td>\n",
              "      <td>In</td>\n",
              "    </tr>\n",
              "    <tr>\n",
              "      <th>1</th>\n",
              "      <td>__export__.temp_log_128828_1f2ca69c</td>\n",
              "      <td>Room Admin</td>\n",
              "      <td>2018-01-11 02:12:00</td>\n",
              "      <td>32</td>\n",
              "      <td>In</td>\n",
              "    </tr>\n",
              "    <tr>\n",
              "      <th>2</th>\n",
              "      <td>__export__.temp_log_142141_12bd7384</td>\n",
              "      <td>Room Admin</td>\n",
              "      <td>2018-01-11 02:44:00</td>\n",
              "      <td>32</td>\n",
              "      <td>In</td>\n",
              "    </tr>\n",
              "    <tr>\n",
              "      <th>3</th>\n",
              "      <td>__export__.temp_log_106858_cdf61926</td>\n",
              "      <td>Room Admin</td>\n",
              "      <td>2018-01-11 02:46:00</td>\n",
              "      <td>32</td>\n",
              "      <td>In</td>\n",
              "    </tr>\n",
              "    <tr>\n",
              "      <th>4</th>\n",
              "      <td>__export__.temp_log_120068_a0fc57cc</td>\n",
              "      <td>Room Admin</td>\n",
              "      <td>2018-01-11 02:58:00</td>\n",
              "      <td>31</td>\n",
              "      <td>In</td>\n",
              "    </tr>\n",
              "    <tr>\n",
              "      <th>...</th>\n",
              "      <td>...</td>\n",
              "      <td>...</td>\n",
              "      <td>...</td>\n",
              "      <td>...</td>\n",
              "      <td>...</td>\n",
              "    </tr>\n",
              "    <tr>\n",
              "      <th>20340</th>\n",
              "      <td>__export__.temp_log_41083_917dc7ae</td>\n",
              "      <td>Room Admin</td>\n",
              "      <td>2018-12-10 20:25:00</td>\n",
              "      <td>35</td>\n",
              "      <td>In</td>\n",
              "    </tr>\n",
              "    <tr>\n",
              "      <th>20341</th>\n",
              "      <td>__export__.temp_log_41090_c0ed0bd1</td>\n",
              "      <td>Room Admin</td>\n",
              "      <td>2018-12-10 20:35:00</td>\n",
              "      <td>34</td>\n",
              "      <td>In</td>\n",
              "    </tr>\n",
              "    <tr>\n",
              "      <th>20342</th>\n",
              "      <td>__export__.temp_log_41091_8546ae99</td>\n",
              "      <td>Room Admin</td>\n",
              "      <td>2018-12-10 20:37:00</td>\n",
              "      <td>35</td>\n",
              "      <td>In</td>\n",
              "    </tr>\n",
              "    <tr>\n",
              "      <th>20343</th>\n",
              "      <td>__export__.temp_log_41129_77d8da57</td>\n",
              "      <td>Room Admin</td>\n",
              "      <td>2018-12-10 21:31:00</td>\n",
              "      <td>34</td>\n",
              "      <td>In</td>\n",
              "    </tr>\n",
              "    <tr>\n",
              "      <th>20344</th>\n",
              "      <td>__export__.temp_log_41130_13e2eff7</td>\n",
              "      <td>Room Admin</td>\n",
              "      <td>2018-12-10 21:33:00</td>\n",
              "      <td>35</td>\n",
              "      <td>In</td>\n",
              "    </tr>\n",
              "  </tbody>\n",
              "</table>\n",
              "<p>20345 rows × 5 columns</p>\n",
              "</div>"
            ],
            "text/plain": [
              "                                        id  room_id/id  ... temp  out/in\n",
              "0      __export__.temp_log_126924_cb744837  Room Admin  ...   32      In\n",
              "1      __export__.temp_log_128828_1f2ca69c  Room Admin  ...   32      In\n",
              "2      __export__.temp_log_142141_12bd7384  Room Admin  ...   32      In\n",
              "3      __export__.temp_log_106858_cdf61926  Room Admin  ...   32      In\n",
              "4      __export__.temp_log_120068_a0fc57cc  Room Admin  ...   31      In\n",
              "...                                    ...         ...  ...  ...     ...\n",
              "20340   __export__.temp_log_41083_917dc7ae  Room Admin  ...   35      In\n",
              "20341   __export__.temp_log_41090_c0ed0bd1  Room Admin  ...   34      In\n",
              "20342   __export__.temp_log_41091_8546ae99  Room Admin  ...   35      In\n",
              "20343   __export__.temp_log_41129_77d8da57  Room Admin  ...   34      In\n",
              "20344   __export__.temp_log_41130_13e2eff7  Room Admin  ...   35      In\n",
              "\n",
              "[20345 rows x 5 columns]"
            ]
          },
          "metadata": {},
          "execution_count": 55
        }
      ]
    },
    {
      "cell_type": "code",
      "metadata": {
        "colab": {
          "base_uri": "https://localhost:8080/",
          "height": 538
        },
        "id": "90C9TA5dgSrC",
        "outputId": "3bfa7a2a-9475-49f1-c99e-cfa42ae9d491"
      },
      "source": [
        "#aplicando o mesmo procedimento para o dataframe de out\n",
        "#modificando o tipo de dados\n",
        "df_out['noted_date']= pd.to_datetime(df_out['noted_date'])\n",
        "df_out=df_out.sort_values(by=['noted_date'])\n",
        "df_out.reset_index(drop=True)"
      ],
      "execution_count": null,
      "outputs": [
        {
          "output_type": "stream",
          "name": "stderr",
          "text": [
            "/usr/local/lib/python3.7/dist-packages/ipykernel_launcher.py:3: SettingWithCopyWarning: \n",
            "A value is trying to be set on a copy of a slice from a DataFrame.\n",
            "Try using .loc[row_indexer,col_indexer] = value instead\n",
            "\n",
            "See the caveats in the documentation: https://pandas.pydata.org/pandas-docs/stable/user_guide/indexing.html#returning-a-view-versus-a-copy\n",
            "  This is separate from the ipykernel package so we can avoid doing imports until\n"
          ]
        },
        {
          "output_type": "execute_result",
          "data": {
            "text/html": [
              "<div>\n",
              "<style scoped>\n",
              "    .dataframe tbody tr th:only-of-type {\n",
              "        vertical-align: middle;\n",
              "    }\n",
              "\n",
              "    .dataframe tbody tr th {\n",
              "        vertical-align: top;\n",
              "    }\n",
              "\n",
              "    .dataframe thead th {\n",
              "        text-align: right;\n",
              "    }\n",
              "</style>\n",
              "<table border=\"1\" class=\"dataframe\">\n",
              "  <thead>\n",
              "    <tr style=\"text-align: right;\">\n",
              "      <th></th>\n",
              "      <th>id</th>\n",
              "      <th>room_id/id</th>\n",
              "      <th>noted_date</th>\n",
              "      <th>temp</th>\n",
              "      <th>out/in</th>\n",
              "    </tr>\n",
              "  </thead>\n",
              "  <tbody>\n",
              "    <tr>\n",
              "      <th>0</th>\n",
              "      <td>__export__.temp_log_146101_e61c18d4</td>\n",
              "      <td>Room Admin</td>\n",
              "      <td>2018-01-11 00:07:00</td>\n",
              "      <td>40</td>\n",
              "      <td>Out</td>\n",
              "    </tr>\n",
              "    <tr>\n",
              "      <th>1</th>\n",
              "      <td>__export__.temp_log_111262_7b3ed086</td>\n",
              "      <td>Room Admin</td>\n",
              "      <td>2018-01-11 00:09:00</td>\n",
              "      <td>39</td>\n",
              "      <td>Out</td>\n",
              "    </tr>\n",
              "    <tr>\n",
              "      <th>2</th>\n",
              "      <td>__export__.temp_log_147650_344507e9</td>\n",
              "      <td>Room Admin</td>\n",
              "      <td>2018-01-11 00:13:00</td>\n",
              "      <td>40</td>\n",
              "      <td>Out</td>\n",
              "    </tr>\n",
              "    <tr>\n",
              "      <th>3</th>\n",
              "      <td>__export__.temp_log_139505_cd77d7f9</td>\n",
              "      <td>Room Admin</td>\n",
              "      <td>2018-01-11 00:23:00</td>\n",
              "      <td>40</td>\n",
              "      <td>Out</td>\n",
              "    </tr>\n",
              "    <tr>\n",
              "      <th>4</th>\n",
              "      <td>__export__.temp_log_127981_32c85db7</td>\n",
              "      <td>Room Admin</td>\n",
              "      <td>2018-01-11 00:25:00</td>\n",
              "      <td>40</td>\n",
              "      <td>Out</td>\n",
              "    </tr>\n",
              "    <tr>\n",
              "      <th>...</th>\n",
              "      <td>...</td>\n",
              "      <td>...</td>\n",
              "      <td>...</td>\n",
              "      <td>...</td>\n",
              "      <td>...</td>\n",
              "    </tr>\n",
              "    <tr>\n",
              "      <th>77256</th>\n",
              "      <td>__export__.temp_log_41241_36e995ef</td>\n",
              "      <td>Room Admin</td>\n",
              "      <td>2018-12-10 23:41:00</td>\n",
              "      <td>44</td>\n",
              "      <td>Out</td>\n",
              "    </tr>\n",
              "    <tr>\n",
              "      <th>77257</th>\n",
              "      <td>__export__.temp_log_41244_1cef6363</td>\n",
              "      <td>Room Admin</td>\n",
              "      <td>2018-12-10 23:43:00</td>\n",
              "      <td>44</td>\n",
              "      <td>Out</td>\n",
              "    </tr>\n",
              "    <tr>\n",
              "      <th>77258</th>\n",
              "      <td>__export__.temp_log_41249_7d6819cd</td>\n",
              "      <td>Room Admin</td>\n",
              "      <td>2018-12-10 23:49:00</td>\n",
              "      <td>44</td>\n",
              "      <td>Out</td>\n",
              "    </tr>\n",
              "    <tr>\n",
              "      <th>77259</th>\n",
              "      <td>__export__.temp_log_41250_eed95540</td>\n",
              "      <td>Room Admin</td>\n",
              "      <td>2018-12-10 23:51:00</td>\n",
              "      <td>45</td>\n",
              "      <td>Out</td>\n",
              "    </tr>\n",
              "    <tr>\n",
              "      <th>77260</th>\n",
              "      <td>__export__.temp_log_41254_5b6ff69c</td>\n",
              "      <td>Room Admin</td>\n",
              "      <td>2018-12-10 23:55:00</td>\n",
              "      <td>44</td>\n",
              "      <td>Out</td>\n",
              "    </tr>\n",
              "  </tbody>\n",
              "</table>\n",
              "<p>77261 rows × 5 columns</p>\n",
              "</div>"
            ],
            "text/plain": [
              "                                        id  room_id/id  ... temp  out/in\n",
              "0      __export__.temp_log_146101_e61c18d4  Room Admin  ...   40     Out\n",
              "1      __export__.temp_log_111262_7b3ed086  Room Admin  ...   39     Out\n",
              "2      __export__.temp_log_147650_344507e9  Room Admin  ...   40     Out\n",
              "3      __export__.temp_log_139505_cd77d7f9  Room Admin  ...   40     Out\n",
              "4      __export__.temp_log_127981_32c85db7  Room Admin  ...   40     Out\n",
              "...                                    ...         ...  ...  ...     ...\n",
              "77256   __export__.temp_log_41241_36e995ef  Room Admin  ...   44     Out\n",
              "77257   __export__.temp_log_41244_1cef6363  Room Admin  ...   44     Out\n",
              "77258   __export__.temp_log_41249_7d6819cd  Room Admin  ...   44     Out\n",
              "77259   __export__.temp_log_41250_eed95540  Room Admin  ...   45     Out\n",
              "77260   __export__.temp_log_41254_5b6ff69c  Room Admin  ...   44     Out\n",
              "\n",
              "[77261 rows x 5 columns]"
            ]
          },
          "metadata": {},
          "execution_count": 56
        }
      ]
    },
    {
      "cell_type": "code",
      "metadata": {
        "colab": {
          "base_uri": "https://localhost:8080/"
        },
        "id": "YXlbtJQeghUd",
        "outputId": "fa104d86-b1c1-4553-8b46-df083372ff44"
      },
      "source": [
        "print(\"Registros existentes no df_IN: \",df_in.count()[0])\n",
        "print(\"Registros existentes no df_OUt: \",df_out.count()[0])"
      ],
      "execution_count": null,
      "outputs": [
        {
          "output_type": "stream",
          "name": "stdout",
          "text": [
            "Registros existentes no df_IN:  20345\n",
            "Registros existentes no df_OUt:  77261\n"
          ]
        }
      ]
    },
    {
      "cell_type": "code",
      "metadata": {
        "colab": {
          "base_uri": "https://localhost:8080/",
          "height": 203
        },
        "id": "UsrWfJO3gy7c",
        "outputId": "8dbd2110-951b-44df-9fac-290fd3eb48ce"
      },
      "source": [
        "#comparando as duas temperaturas \"estatísticamente\"\n",
        "frame = { 'temp_in': df_in.temp, 'temp_out': df_out.temp }\n",
        "df_in_out=pd.DataFrame(frame)\n",
        "df_in_out.head()"
      ],
      "execution_count": null,
      "outputs": [
        {
          "output_type": "execute_result",
          "data": {
            "text/html": [
              "<div>\n",
              "<style scoped>\n",
              "    .dataframe tbody tr th:only-of-type {\n",
              "        vertical-align: middle;\n",
              "    }\n",
              "\n",
              "    .dataframe tbody tr th {\n",
              "        vertical-align: top;\n",
              "    }\n",
              "\n",
              "    .dataframe thead th {\n",
              "        text-align: right;\n",
              "    }\n",
              "</style>\n",
              "<table border=\"1\" class=\"dataframe\">\n",
              "  <thead>\n",
              "    <tr style=\"text-align: right;\">\n",
              "      <th></th>\n",
              "      <th>temp_in</th>\n",
              "      <th>temp_out</th>\n",
              "    </tr>\n",
              "  </thead>\n",
              "  <tbody>\n",
              "    <tr>\n",
              "      <th>0</th>\n",
              "      <td>29.0</td>\n",
              "      <td>NaN</td>\n",
              "    </tr>\n",
              "    <tr>\n",
              "      <th>1</th>\n",
              "      <td>29.0</td>\n",
              "      <td>NaN</td>\n",
              "    </tr>\n",
              "    <tr>\n",
              "      <th>2</th>\n",
              "      <td>NaN</td>\n",
              "      <td>41.0</td>\n",
              "    </tr>\n",
              "    <tr>\n",
              "      <th>3</th>\n",
              "      <td>NaN</td>\n",
              "      <td>41.0</td>\n",
              "    </tr>\n",
              "    <tr>\n",
              "      <th>4</th>\n",
              "      <td>31.0</td>\n",
              "      <td>NaN</td>\n",
              "    </tr>\n",
              "  </tbody>\n",
              "</table>\n",
              "</div>"
            ],
            "text/plain": [
              "   temp_in  temp_out\n",
              "0     29.0       NaN\n",
              "1     29.0       NaN\n",
              "2      NaN      41.0\n",
              "3      NaN      41.0\n",
              "4     31.0       NaN"
            ]
          },
          "metadata": {},
          "execution_count": 58
        }
      ]
    },
    {
      "cell_type": "code",
      "metadata": {
        "colab": {
          "base_uri": "https://localhost:8080/"
        },
        "id": "UOog4sOYg4ay",
        "outputId": "0b1267ff-66ca-4496-f8a2-adec0aa80c9c"
      },
      "source": [
        "#mostrando os dados\n",
        "df_in_out.info()"
      ],
      "execution_count": null,
      "outputs": [
        {
          "output_type": "stream",
          "name": "stdout",
          "text": [
            "<class 'pandas.core.frame.DataFrame'>\n",
            "Int64Index: 97606 entries, 0 to 97605\n",
            "Data columns (total 2 columns):\n",
            " #   Column    Non-Null Count  Dtype  \n",
            "---  ------    --------------  -----  \n",
            " 0   temp_in   20345 non-null  float64\n",
            " 1   temp_out  77261 non-null  float64\n",
            "dtypes: float64(2)\n",
            "memory usage: 2.2 MB\n"
          ]
        }
      ]
    },
    {
      "cell_type": "code",
      "metadata": {
        "colab": {
          "base_uri": "https://localhost:8080/",
          "height": 447
        },
        "id": "0AecENnwg-S2",
        "outputId": "bf0575bf-e34a-4d39-ea5e-42f499ba7ac4"
      },
      "source": [
        "#exemplificando o pivot\n",
        "table = pd.pivot_table(IOT_temp, values='temp', index=['noted_date'], columns= [\"out/in\"],fill_value=0)\n",
        "table"
      ],
      "execution_count": null,
      "outputs": [
        {
          "output_type": "execute_result",
          "data": {
            "text/html": [
              "<div>\n",
              "<style scoped>\n",
              "    .dataframe tbody tr th:only-of-type {\n",
              "        vertical-align: middle;\n",
              "    }\n",
              "\n",
              "    .dataframe tbody tr th {\n",
              "        vertical-align: top;\n",
              "    }\n",
              "\n",
              "    .dataframe thead th {\n",
              "        text-align: right;\n",
              "    }\n",
              "</style>\n",
              "<table border=\"1\" class=\"dataframe\">\n",
              "  <thead>\n",
              "    <tr style=\"text-align: right;\">\n",
              "      <th>out/in</th>\n",
              "      <th>In</th>\n",
              "      <th>Out</th>\n",
              "    </tr>\n",
              "    <tr>\n",
              "      <th>noted_date</th>\n",
              "      <th></th>\n",
              "      <th></th>\n",
              "    </tr>\n",
              "  </thead>\n",
              "  <tbody>\n",
              "    <tr>\n",
              "      <th>01-11-2018 00:06</th>\n",
              "      <td>32.0</td>\n",
              "      <td>0.0</td>\n",
              "    </tr>\n",
              "    <tr>\n",
              "      <th>01-11-2018 00:07</th>\n",
              "      <td>0.0</td>\n",
              "      <td>40.0</td>\n",
              "    </tr>\n",
              "    <tr>\n",
              "      <th>01-11-2018 00:09</th>\n",
              "      <td>0.0</td>\n",
              "      <td>39.0</td>\n",
              "    </tr>\n",
              "    <tr>\n",
              "      <th>01-11-2018 00:13</th>\n",
              "      <td>0.0</td>\n",
              "      <td>40.0</td>\n",
              "    </tr>\n",
              "    <tr>\n",
              "      <th>01-11-2018 00:23</th>\n",
              "      <td>0.0</td>\n",
              "      <td>40.0</td>\n",
              "    </tr>\n",
              "    <tr>\n",
              "      <th>...</th>\n",
              "      <td>...</td>\n",
              "      <td>...</td>\n",
              "    </tr>\n",
              "    <tr>\n",
              "      <th>31-10-2018 23:52</th>\n",
              "      <td>0.0</td>\n",
              "      <td>40.0</td>\n",
              "    </tr>\n",
              "    <tr>\n",
              "      <th>31-10-2018 23:53</th>\n",
              "      <td>0.0</td>\n",
              "      <td>39.0</td>\n",
              "    </tr>\n",
              "    <tr>\n",
              "      <th>31-10-2018 23:54</th>\n",
              "      <td>32.0</td>\n",
              "      <td>0.0</td>\n",
              "    </tr>\n",
              "    <tr>\n",
              "      <th>31-10-2018 23:55</th>\n",
              "      <td>0.0</td>\n",
              "      <td>40.0</td>\n",
              "    </tr>\n",
              "    <tr>\n",
              "      <th>31-10-2018 23:57</th>\n",
              "      <td>0.0</td>\n",
              "      <td>39.0</td>\n",
              "    </tr>\n",
              "  </tbody>\n",
              "</table>\n",
              "<p>27920 rows × 2 columns</p>\n",
              "</div>"
            ],
            "text/plain": [
              "out/in              In   Out\n",
              "noted_date                  \n",
              "01-11-2018 00:06  32.0   0.0\n",
              "01-11-2018 00:07   0.0  40.0\n",
              "01-11-2018 00:09   0.0  39.0\n",
              "01-11-2018 00:13   0.0  40.0\n",
              "01-11-2018 00:23   0.0  40.0\n",
              "...                ...   ...\n",
              "31-10-2018 23:52   0.0  40.0\n",
              "31-10-2018 23:53   0.0  39.0\n",
              "31-10-2018 23:54  32.0   0.0\n",
              "31-10-2018 23:55   0.0  40.0\n",
              "31-10-2018 23:57   0.0  39.0\n",
              "\n",
              "[27920 rows x 2 columns]"
            ]
          },
          "metadata": {},
          "execution_count": 60
        }
      ]
    },
    {
      "cell_type": "code",
      "metadata": {
        "colab": {
          "base_uri": "https://localhost:8080/",
          "height": 320
        },
        "id": "SUa43PY0hMav",
        "outputId": "3de0311a-6e42-49f2-ff50-888b1faa1a24"
      },
      "source": [
        "#comparando a igualdade dos valores In e Out\n",
        "df_in_out.boxplot();"
      ],
      "execution_count": null,
      "outputs": [
        {
          "output_type": "stream",
          "name": "stderr",
          "text": [
            "/usr/local/lib/python3.7/dist-packages/numpy/core/_asarray.py:83: VisibleDeprecationWarning: Creating an ndarray from ragged nested sequences (which is a list-or-tuple of lists-or-tuples-or ndarrays with different lengths or shapes) is deprecated. If you meant to do this, you must specify 'dtype=object' when creating the ndarray\n",
            "  return array(a, dtype, copy=False, order=order)\n"
          ]
        },
        {
          "output_type": "display_data",
          "data": {
            "image/png": "[encoded data removed]",
            "text/plain": [
              "<Figure size 432x288 with 1 Axes>"
            ]
          },
          "metadata": {
            "needs_background": "light"
          }
        }
      ]
    },
    {
      "cell_type": "markdown",
      "metadata": {
        "id": "pR-xcT6EhXPs"
      },
      "source": [
        "**Analisando o boxplot da temp_in e temp_out, o que é possível afirmar?**"
      ]
    },
    {
      "cell_type": "code",
      "metadata": {
        "id": "TsmnuSEYhmJi"
      },
      "source": [
        "#criando um modelo de previsão de temperatura\n",
        "df_out_new=IOT_temp[IOT_temp[\"out/in\"]==\"Out\"][\"temp\"].values"
      ],
      "execution_count": null,
      "outputs": []
    },
    {
      "cell_type": "code",
      "metadata": {
        "id": "DcdTVHexhyqv"
      },
      "source": [
        "#normaliza os dados\n",
        "from sklearn.preprocessing import MinMaxScaler\n",
        "scaler = MinMaxScaler(feature_range=(0, 1))\n",
        "serie_out = scaler.fit_transform(df_out_new.reshape(-1, 1))"
      ],
      "execution_count": null,
      "outputs": []
    },
    {
      "cell_type": "code",
      "metadata": {
        "colab": {
          "base_uri": "https://localhost:8080/"
        },
        "id": "5KRLBlnPh1o5",
        "outputId": "ae3b9ef2-2e39-4b35-9bf0-0b43745394e2"
      },
      "source": [
        "serie_out"
      ],
      "execution_count": null,
      "outputs": [
        {
          "output_type": "execute_result",
          "data": {
            "text/plain": [
              "array([[0.62962963],\n",
              "       [0.62962963],\n",
              "       [0.66666667],\n",
              "       ...,\n",
              "       [0.2962963 ],\n",
              "       [0.2962963 ],\n",
              "       [0.2962963 ]])"
            ]
          },
          "metadata": {},
          "execution_count": 64
        }
      ]
    },
    {
      "cell_type": "code",
      "metadata": {
        "id": "17b5JyICh4MB"
      },
      "source": [
        "#define a quantidade de dados para treinamento e teste\n",
        "train=serie_out[:int(len(serie_out)*0.7)]      #70% inicial para o treinamento\n",
        "test=serie_out[int(len(serie_out)*0.7):]       #30% final para o teste"
      ],
      "execution_count": null,
      "outputs": []
    },
    {
      "cell_type": "code",
      "metadata": {
        "id": "ojgHO2hqh7DN"
      },
      "source": [
        "#método para colcoar os dados de entrada em um formato necessário para a previsão\n",
        "#define o intervalo a ser utilizado para entrada da rede neural recorrente LSTM\n",
        "def create_dataset(dataset, look_back=1):\n",
        "    dataX, dataY = [], []\n",
        "    for i in range(len(dataset)-look_back-1):\n",
        "        a = dataset[i:(i+look_back), 0]\n",
        "        dataX.append(a)\n",
        "        dataY.append(dataset[i + look_back, 0])\n",
        "    return np.array(dataX), np.array(dataY)"
      ],
      "execution_count": null,
      "outputs": []
    },
    {
      "cell_type": "code",
      "metadata": {
        "id": "i4sT7CITiMBn"
      },
      "source": [
        "look_back = 3                                           # quantidade de passos para a autocorrelação\n",
        "trainX, trainY = create_dataset(train, look_back)\n",
        "testX, testY = create_dataset(test, look_back)"
      ],
      "execution_count": null,
      "outputs": []
    },
    {
      "cell_type": "code",
      "metadata": {
        "id": "Fxip1A8QihVI"
      },
      "source": [
        "#colocando os dados no formato para entrada na rede LSTM  [amostras, time steps, features]\n",
        "trainX = np.reshape(trainX, (trainX.shape[0], look_back, 1))\n",
        "testX = np.reshape(testX, (testX.shape[0], look_back, 1))"
      ],
      "execution_count": null,
      "outputs": []
    },
    {
      "cell_type": "code",
      "metadata": {
        "id": "_DlNkJYgikYL"
      },
      "source": [
        "#definindo o modelo para a rede neural recorrente LSTM\n",
        "from tensorflow.keras.models import Sequential              #utilizando o modelo sequencial para a construção da rede\n",
        "from tensorflow.keras.layers import Dense, Flatten, LSTM    #utilizado para definir as camadas a serem utilizadas\n"
      ],
      "execution_count": null,
      "outputs": []
    },
    {
      "cell_type": "code",
      "metadata": {
        "id": "Qvz1je5GiwrT"
      },
      "source": [
        "#definindo o modelo\n",
        "model = Sequential()\n",
        "model.add(LSTM(4, input_shape=(look_back,1)))\n",
        "model.add(Dense(1))\n",
        "model.compile(loss='mean_squared_error', optimizer='adam')"
      ],
      "execution_count": null,
      "outputs": []
    },
    {
      "cell_type": "code",
      "metadata": {
        "colab": {
          "base_uri": "https://localhost:8080/"
        },
        "id": "SOwc8Xz9jTRv",
        "outputId": "07c8d136-032b-42be-f647-8825f07e6034"
      },
      "source": [
        "#mostra o modelo\n",
        "model.summary()"
      ],
      "execution_count": null,
      "outputs": [
        {
          "output_type": "stream",
          "name": "stdout",
          "text": [
            "Model: \"sequential_1\"\n",
            "_________________________________________________________________\n",
            "Layer (type)                 Output Shape              Param #   \n",
            "=================================================================\n",
            "lstm_1 (LSTM)                (None, 4)                 96        \n",
            "_________________________________________________________________\n",
            "dense_1 (Dense)              (None, 1)                 5         \n",
            "=================================================================\n",
            "Total params: 101\n",
            "Trainable params: 101\n",
            "Non-trainable params: 0\n",
            "_________________________________________________________________\n"
          ]
        }
      ]
    },
    {
      "cell_type": "markdown",
      "metadata": {
        "id": "K5k58L3JjU6i"
      },
      "source": [
        "**Sobre a rede LSTM criada, o que é correto dizer?**"
      ]
    },
    {
      "cell_type": "code",
      "metadata": {
        "colab": {
          "base_uri": "https://localhost:8080/"
        },
        "id": "0ESau0UtjeNl",
        "outputId": "6acd8cc3-fa9d-4c04-fc05-5f59ab80d1a6"
      },
      "source": [
        "#Treina o modelo\n",
        "historico=model.fit(trainX, trainY, validation_split=0.2,epochs=10, batch_size=100, verbose=2)"
      ],
      "execution_count": null,
      "outputs": [
        {
          "output_type": "stream",
          "name": "stdout",
          "text": [
            "Epoch 1/10\n",
            "433/433 - 4s - loss: 0.0400 - val_loss: 0.0270\n",
            "Epoch 2/10\n",
            "433/433 - 1s - loss: 0.0028 - val_loss: 0.0150\n",
            "Epoch 3/10\n",
            "433/433 - 1s - loss: 0.0013 - val_loss: 0.0060\n",
            "Epoch 4/10\n",
            "433/433 - 1s - loss: 5.9874e-04 - val_loss: 0.0026\n",
            "Epoch 5/10\n",
            "433/433 - 1s - loss: 4.4501e-04 - val_loss: 0.0019\n",
            "Epoch 6/10\n",
            "433/433 - 1s - loss: 4.3449e-04 - val_loss: 0.0018\n",
            "Epoch 7/10\n",
            "433/433 - 1s - loss: 4.3459e-04 - val_loss: 0.0018\n",
            "Epoch 8/10\n",
            "433/433 - 1s - loss: 4.3383e-04 - val_loss: 0.0017\n",
            "Epoch 9/10\n",
            "433/433 - 1s - loss: 4.3397e-04 - val_loss: 0.0016\n",
            "Epoch 10/10\n",
            "433/433 - 1s - loss: 4.3425e-04 - val_loss: 0.0016\n"
          ]
        }
      ]
    },
    {
      "cell_type": "code",
      "metadata": {
        "colab": {
          "base_uri": "https://localhost:8080/"
        },
        "id": "PLvLr3pNmjn-",
        "outputId": "73fe1238-2754-47d5-82c0-78eba312d526"
      },
      "source": [
        "#mostrando as keys presentes no objeto history do keras\n",
        "print(historico.history.keys())"
      ],
      "execution_count": null,
      "outputs": [
        {
          "output_type": "stream",
          "name": "stdout",
          "text": [
            "dict_keys(['loss', 'val_loss'])\n"
          ]
        }
      ]
    },
    {
      "cell_type": "code",
      "metadata": {
        "colab": {
          "base_uri": "https://localhost:8080/"
        },
        "id": "CAG82OZ9keV0",
        "outputId": "c8562296-9778-4650-d2ae-604385813813"
      },
      "source": [
        "#plotando os gráficos para a função perda do algoritmo\n",
        "plt.plot(historico.history['loss'])\n",
        "plt.plot(historico.history['val_loss'])\n",
        "plt.title('Função perda durante o treinamento')\n",
        "plt.ylabel('Função perda')\n",
        "plt.xlabel('Época')\n",
        "plt.legend(['Treinamento', 'Teste'], loc='upper left')\n",
        "plt.show()"
      ],
      "execution_count": null,
      "outputs": [
        {
          "output_type": "display_data",
          "data": {
            "image/png": "[encoded data removed]",
            "text/plain": [
              "<Figure size 432x288 with 1 Axes>"
            ]
          },
          "metadata": {
            "needs_background": "light"
          }
        }
      ]
    },
    {
      "cell_type": "markdown",
      "metadata": {
        "id": "F1fcuagFpKvt"
      },
      "source": [
        "**Analisando o gráfico da função perda, o que é incorreto afirmar?**"
      ]
    },
    {
      "cell_type": "code",
      "metadata": {
        "id": "5DHC_rzGnEDK"
      },
      "source": [
        "# realizando as previsões\n",
        "trainPredict = model.predict(trainX)\n",
        "testPredict = model.predict(testX)"
      ],
      "execution_count": null,
      "outputs": []
    },
    {
      "cell_type": "code",
      "metadata": {
        "id": "vd7GnkaZnFcF"
      },
      "source": [
        "# colocando os dados em um formato para a previsão \"correta\"\n",
        "trainPredict = scaler.inverse_transform(trainPredict)\n",
        "trainY = scaler.inverse_transform([trainY])\n",
        "testPredict = scaler.inverse_transform(testPredict)\n",
        "testY = scaler.inverse_transform([testY])"
      ],
      "execution_count": null,
      "outputs": []
    },
    {
      "cell_type": "code",
      "metadata": {
        "id": "QPuTSRJWnLN_"
      },
      "source": [
        "#identificando o \"qualidade\" do modelo\n",
        "import math                                       #utilizada para realizar as operações matemáticas\n",
        "from sklearn.metrics import mean_squared_error    #calcular o erro médio quadrático nas previsões"
      ],
      "execution_count": null,
      "outputs": []
    },
    {
      "cell_type": "code",
      "metadata": {
        "colab": {
          "base_uri": "https://localhost:8080/"
        },
        "id": "wM_iTmJLnadi",
        "outputId": "78e59044-c123-4b4a-a09d-286b336adb95"
      },
      "source": [
        "# Calculando os erros de previsão\n",
        "trainScore = math.sqrt(mean_squared_error(trainY[0], trainPredict[:,0]))\n",
        "print('Pontuação para o treinamento: %.2f MSE' % (trainScore))\n",
        "testScore = math.sqrt(mean_squared_error(testY[0], testPredict[:,0]))\n",
        "print('Pontuação para o teste: %.2f MSE' % (testScore))"
      ],
      "execution_count": null,
      "outputs": [
        {
          "output_type": "stream",
          "name": "stdout",
          "text": [
            "Pontuação para o treinamento: 0.70 MSE\n",
            "Pontuação para o teste: 1.37 MSE\n"
          ]
        }
      ]
    },
    {
      "cell_type": "markdown",
      "metadata": {
        "id": "vT28knGkpWUo"
      },
      "source": [
        "**Analisando o MSE mostrado para o treinamento e teste do algoritmo, o que é incorreto afirmar?**"
      ]
    },
    {
      "cell_type": "code",
      "metadata": {
        "id": "IfIwnDBFneB1"
      },
      "source": [
        "# realizando o shift dos valores para construir o plot dos valores\n",
        "trainPredictPlot = np.empty_like(serie_out)\n",
        "trainPredictPlot[:, :] = np.nan\n",
        "trainPredictPlot[look_back:len(trainPredict)+look_back, :] = trainPredict"
      ],
      "execution_count": null,
      "outputs": []
    },
    {
      "cell_type": "code",
      "metadata": {
        "id": "9pNeOcYfnjK6"
      },
      "source": [
        "# realizando um shift dos dados de previsão para o treinamento\n",
        "testPredictPlot = np.empty_like(serie_out)\n",
        "testPredictPlot[:, :] = np.nan\n",
        "testPredictPlot[len(trainPredict)+(look_back*2)+1:len(serie_out)-1, :] = testPredict"
      ],
      "execution_count": null,
      "outputs": []
    },
    {
      "cell_type": "code",
      "metadata": {
        "colab": {
          "base_uri": "https://localhost:8080/",
          "height": 863
        },
        "id": "8TU6LrYLnlhI",
        "outputId": "10ad5dd0-c5e8-4f88-c3a8-547bc16c4e22"
      },
      "source": [
        "# realizando o plot dos dados para treinamento e teste\n",
        "plt.figure(figsize=(15,15))  #define o tamanho da figura\n",
        "plt.plot(scaler.inverse_transform(serie_out))\n",
        "plt.plot(trainPredictPlot)\n",
        "plt.plot(testPredictPlot)\n",
        "plt.legend([\"Real\",\"Previsao Treinamento\",\"Previsão Teste\"])\n",
        "plt.show()"
      ],
      "execution_count": null,
      "outputs": [
        {
          "output_type": "display_data",
          "data": {
            "image/png": "[encoded data removed]",
            "text/plain": [
              "<Figure size 1080x1080 with 1 Axes>"
            ]
          },
          "metadata": {
            "needs_background": "light"
          }
        }
      ]
    },
    {
      "cell_type": "markdown",
      "metadata": {
        "id": "R6Df1fvnpi4K"
      },
      "source": [
        "**Analisando o gráfico comparativo entre os valores reais e previstos, o que é correto afirmar?**"
      ]
    }
  ]
}