{
  "nbformat": 4,
  "nbformat_minor": 0,
  "metadata": {
    "colab": {
      "provenance": []
    },
    "kernelspec": {
      "name": "python3",
      "display_name": "Python 3"
    },
    "language_info": {
      "name": "python"
    }
  },
  "cells": [
    {
      "cell_type": "code",
      "source": [
        "!pip install wikipedia"
      ],
      "metadata": {
        "colab": {
          "base_uri": "https://localhost:8080/"
        },
        "collapsed": true,
        "id": "Mtml57ZEzjBs",
        "outputId": "2b153765-d20f-4ea8-9fc6-db071bcbe584"
      },
      "execution_count": 31,
      "outputs": [
        {
          "output_type": "stream",
          "name": "stdout",
          "text": [
            "Collecting wikipedia\n",
            "  Downloading wikipedia-1.4.0.tar.gz (27 kB)\n",
            "  Preparing metadata (setup.py) ... \u001b[?25l\u001b[?25hdone\n",
            "Requirement already satisfied: beautifulsoup4 in /usr/local/lib/python3.11/dist-packages (from wikipedia) (4.13.4)\n",
            "Requirement already satisfied: requests<3.0.0,>=2.0.0 in /usr/local/lib/python3.11/dist-packages (from wikipedia) (2.32.3)\n",
            "Requirement already satisfied: charset-normalizer<4,>=2 in /usr/local/lib/python3.11/dist-packages (from requests<3.0.0,>=2.0.0->wikipedia) (3.4.1)\n",
            "Requirement already satisfied: idna<4,>=2.5 in /usr/local/lib/python3.11/dist-packages (from requests<3.0.0,>=2.0.0->wikipedia) (3.10)\n",
            "Requirement already satisfied: urllib3<3,>=1.21.1 in /usr/local/lib/python3.11/dist-packages (from requests<3.0.0,>=2.0.0->wikipedia) (2.3.0)\n",
            "Requirement already satisfied: certifi>=2017.4.17 in /usr/local/lib/python3.11/dist-packages (from requests<3.0.0,>=2.0.0->wikipedia) (2025.1.31)\n",
            "Requirement already satisfied: soupsieve>1.2 in /usr/local/lib/python3.11/dist-packages (from beautifulsoup4->wikipedia) (2.6)\n",
            "Requirement already satisfied: typing-extensions>=4.0.0 in /usr/local/lib/python3.11/dist-packages (from beautifulsoup4->wikipedia) (4.13.2)\n",
            "Building wheels for collected packages: wikipedia\n",
            "  Building wheel for wikipedia (setup.py) ... \u001b[?25l\u001b[?25hdone\n",
            "  Created wheel for wikipedia: filename=wikipedia-1.4.0-py3-none-any.whl size=11678 sha256=473c62f6e01fbe0b371ed6103a6f0158e6bea2c6d26e46b82573b05c39ea77c8\n",
            "  Stored in directory: /root/.cache/pip/wheels/8f/ab/cb/45ccc40522d3a1c41e1d2ad53b8f33a62f394011ec38cd71c6\n",
            "Successfully built wikipedia\n",
            "Installing collected packages: wikipedia\n",
            "Successfully installed wikipedia-1.4.0\n"
          ]
        }
      ]
    },
    {
      "cell_type": "code",
      "execution_count": 42,
      "metadata": {
        "id": "ycQS_e4rPq-p"
      },
      "outputs": [],
      "source": [
        "import pandas as pd\n",
        "import numpy as np\n",
        "import matplotlib.pyplot as plt\n",
        "import seaborn as sns\n",
        "# distancia\n",
        "from scipy.spatial.distance import pdist, hamming, cosine\n",
        "from sklearn.feature_extraction.text import CountVectorizer"
      ]
    },
    {
      "cell_type": "markdown",
      "source": [
        "Distancia euclidiana entre os vetores $n$-dimensionais$ $x$ e $y$:\n",
        "d = \\sqrt{\\sum_{i=1}^{n}(x_i - y_i)^2}"
      ],
      "metadata": {
        "id": "w0ci_7x-Suxm"
      }
    },
    {
      "cell_type": "code",
      "source": [
        "def euclidean_distance(x:np.array, y:np.array):\n",
        "    return np.sqrt(np.sum((x - y) ** 2))"
      ],
      "metadata": {
        "id": "uuWu7uOPR7dy"
      },
      "execution_count": 3,
      "outputs": []
    },
    {
      "cell_type": "code",
      "source": [
        "x = np.array([1,2])\n",
        "y = np.array([5,5])\n",
        "euclidean_distance(x,y)"
      ],
      "metadata": {
        "colab": {
          "base_uri": "https://localhost:8080/"
        },
        "id": "L8g2oBzRSKCU",
        "outputId": "331da342-5391-49ca-ef25-5aff03ba2da9"
      },
      "execution_count": 4,
      "outputs": [
        {
          "output_type": "execute_result",
          "data": {
            "text/plain": [
              "np.float64(5.0)"
            ]
          },
          "metadata": {},
          "execution_count": 4
        }
      ]
    },
    {
      "cell_type": "code",
      "source": [
        "# calculo normas\n",
        "nrm = np.linalg.norm(x - y)\n",
        "print(nrm, type(nrm))"
      ],
      "metadata": {
        "colab": {
          "base_uri": "https://localhost:8080/"
        },
        "id": "k-t_IfzHrRWD",
        "outputId": "f6e302b9-7e91-4203-8f13-00a876c092ac"
      },
      "execution_count": 5,
      "outputs": [
        {
          "output_type": "stream",
          "name": "stdout",
          "text": [
            "5.0 <class 'numpy.float64'>\n"
          ]
        }
      ]
    },
    {
      "cell_type": "code",
      "source": [
        "def hamming_distance(x: np.array, y: np.array, normalize=False):\n",
        "    factor = 1\n",
        "    if normalize:\n",
        "        factor = 1 / len(x)\n",
        "    distance = factor * np.sum(np.abs(x != y))\n",
        "    return distance"
      ],
      "metadata": {
        "id": "E1QjwECOrS1M"
      },
      "execution_count": 6,
      "outputs": []
    },
    {
      "cell_type": "code",
      "source": [
        "x = np.array([1, 0, 0, 1, 1, 0])\n",
        "y = np.array([1, 1, 0, 0, 0, 0])\n",
        "h = hamming_distance(x, y)\n",
        "print('distancia de hamming:', h, type(h))\n",
        "hn = hamming_distance(x, y, True)\n",
        "print('distancia de hamming normalizada:', hn, type(hn))\n",
        "# funcao pacote scipy\n",
        "hnn = hamming(x, y)\n",
        "print('distancia de hamming normalizada f:', hnn, type(hnn))"
      ],
      "metadata": {
        "colab": {
          "base_uri": "https://localhost:8080/"
        },
        "id": "8Dyx_NHbrVpe",
        "outputId": "391cfd39-d414-4a95-fcdf-bf809a80c2a0"
      },
      "execution_count": 7,
      "outputs": [
        {
          "output_type": "stream",
          "name": "stdout",
          "text": [
            "distancia de hamming: 3 <class 'numpy.int64'>\n",
            "distancia de hamming normalizada: 0.5 <class 'numpy.float64'>\n",
            "distancia de hamming normalizada f: 0.5 <class 'numpy.float64'>\n"
          ]
        }
      ]
    },
    {
      "cell_type": "code",
      "source": [
        "x = np.array([1, 0, 0, 1, 1, 1]).reshape(-1, 1)\n",
        "y = np.array([1, 1, 0, 0, 1, 0]).reshape(-1, 1)\n",
        "h = hamming_distance(x, y)\n",
        "print('distancia de hamming:', h, type(h))"
      ],
      "metadata": {
        "colab": {
          "base_uri": "https://localhost:8080/"
        },
        "id": "0vt6-zSprsfs",
        "outputId": "693bb862-e44e-4cf1-dead-2613a16fca0e"
      },
      "execution_count": 8,
      "outputs": [
        {
          "output_type": "stream",
          "name": "stdout",
          "text": [
            "distancia de hamming: 3 <class 'numpy.int64'>\n"
          ]
        }
      ]
    },
    {
      "cell_type": "code",
      "source": [
        "print(x)\n",
        "print(y)"
      ],
      "metadata": {
        "colab": {
          "base_uri": "https://localhost:8080/"
        },
        "id": "jwThdiO_r_P8",
        "outputId": "341f403f-131c-4928-f645-de2c491ac068"
      },
      "execution_count": 22,
      "outputs": [
        {
          "output_type": "stream",
          "name": "stdout",
          "text": [
            "[[1]\n",
            " [0]\n",
            " [0]\n",
            " [1]\n",
            " [1]\n",
            " [1]]\n",
            "[[1]\n",
            " [1]\n",
            " [0]\n",
            " [0]\n",
            " [1]\n",
            " [0]]\n"
          ]
        }
      ]
    },
    {
      "cell_type": "code",
      "source": [
        "# produto interno T -> transposto\n",
        "x.T @ y"
      ],
      "metadata": {
        "colab": {
          "base_uri": "https://localhost:8080/"
        },
        "id": "Qd-XBTcssVuW",
        "outputId": "6b718c1b-ea56-4957-ac86-bfe5aff48a78"
      },
      "execution_count": 11,
      "outputs": [
        {
          "output_type": "execute_result",
          "data": {
            "text/plain": [
              "array([[2]])"
            ]
          },
          "metadata": {},
          "execution_count": 11
        }
      ]
    },
    {
      "cell_type": "code",
      "source": [
        "# produto interno\n",
        "np.sum(x*y)"
      ],
      "metadata": {
        "colab": {
          "base_uri": "https://localhost:8080/"
        },
        "id": "k3NUzGvLsXTz",
        "outputId": "1402842d-d961-46e1-eb68-c2a7130d9a15"
      },
      "execution_count": 16,
      "outputs": [
        {
          "output_type": "execute_result",
          "data": {
            "text/plain": [
              "np.int64(2)"
            ]
          },
          "metadata": {},
          "execution_count": 16
        }
      ]
    },
    {
      "cell_type": "code",
      "source": [
        "# funcoes python\n",
        "np.dot(x.T, y)"
      ],
      "metadata": {
        "colab": {
          "base_uri": "https://localhost:8080/"
        },
        "id": "GIyz1qSisy9M",
        "outputId": "561bf9f1-0a52-4908-ce3c-6eef852c8bd2"
      },
      "execution_count": 14,
      "outputs": [
        {
          "output_type": "execute_result",
          "data": {
            "text/plain": [
              "array([[2]])"
            ]
          },
          "metadata": {},
          "execution_count": 14
        }
      ]
    },
    {
      "cell_type": "code",
      "source": [
        "np.dot(x.ravel(), y.ravel())"
      ],
      "metadata": {
        "colab": {
          "base_uri": "https://localhost:8080/"
        },
        "id": "Yyo4hHJntDVo",
        "outputId": "e4ba5428-0487-4c58-f38e-d8aade9e6342"
      },
      "execution_count": 17,
      "outputs": [
        {
          "output_type": "execute_result",
          "data": {
            "text/plain": [
              "np.int64(2)"
            ]
          },
          "metadata": {},
          "execution_count": 17
        }
      ]
    },
    {
      "cell_type": "code",
      "source": [
        "def cosine_similarity(x: np.array, y: np.array):\n",
        "    return np.dot(x, y) / (np.linalg.norm(x) * np.linalg.norm(y))"
      ],
      "metadata": {
        "id": "NxR-lPCPtmwU"
      },
      "execution_count": 25,
      "outputs": []
    },
    {
      "cell_type": "code",
      "source": [
        "# calcula a similaridade de cossenos\n",
        "x = np.array([1, 0, 0, 1, 1, 1]).reshape(-1, 1)\n",
        "y = np.array([1, 1, 0, 0, 1, 0]).reshape(-1, 1)\n",
        "c = cosine_similarity(x.ravel(), y.ravel())\n",
        "print('similaridade de cossenos:', c)"
      ],
      "metadata": {
        "colab": {
          "base_uri": "https://localhost:8080/"
        },
        "id": "T_SVaQO2t51E",
        "outputId": "1f4359ca-b5a0-4660-be2a-664326e75428"
      },
      "execution_count": 28,
      "outputs": [
        {
          "output_type": "stream",
          "name": "stdout",
          "text": [
            "similaridade de cossenos: 0.5773502691896258\n"
          ]
        }
      ]
    },
    {
      "cell_type": "code",
      "source": [
        "# funcoies python\n",
        "cosine?"
      ],
      "metadata": {
        "id": "9U-MAypSvk12"
      },
      "execution_count": 29,
      "outputs": []
    },
    {
      "cell_type": "code",
      "source": [
        "1 - cosine(x.ravel(), y.ravel())"
      ],
      "metadata": {
        "colab": {
          "base_uri": "https://localhost:8080/"
        },
        "id": "JJFZh2ujvrDW",
        "outputId": "52217e46-1344-4166-abb9-5b1da3be32dd"
      },
      "execution_count": 30,
      "outputs": [
        {
          "output_type": "execute_result",
          "data": {
            "text/plain": [
              "np.float64(0.5773502691896258)"
            ]
          },
          "metadata": {},
          "execution_count": 30
        }
      ]
    },
    {
      "cell_type": "markdown",
      "source": [
        "# distancia euclidiana vs similaridade por cossenos"
      ],
      "metadata": {
        "id": "mqm_PEQBwD26"
      }
    },
    {
      "cell_type": "code",
      "source": [
        "import wikipedia"
      ],
      "metadata": {
        "id": "JR5s-82LwJYM"
      },
      "execution_count": 35,
      "outputs": []
    },
    {
      "cell_type": "code",
      "source": [
        "wikipedia.set_lang(\"pt\")"
      ],
      "metadata": {
        "id": "nP_7HH91zs90"
      },
      "execution_count": 36,
      "outputs": []
    },
    {
      "cell_type": "code",
      "source": [
        "query_1 = wikipedia.page(\"Inteligência artificial\")\n",
        "query_2 = wikipedia.page(\"Futebol\")\n",
        "query_3 = wikipedia.page(\"Aprendizado de maquinas\")\n",
        "query_4 = wikipedia.page(\"Voleibol\")"
      ],
      "metadata": {
        "id": "dXL1fRe5zyIa"
      },
      "execution_count": 38,
      "outputs": []
    },
    {
      "cell_type": "code",
      "source": [
        "query_1.title"
      ],
      "metadata": {
        "colab": {
          "base_uri": "https://localhost:8080/",
          "height": 35
        },
        "id": "3gqe3v6u0MLq",
        "outputId": "373ba028-f48a-412a-9b67-cd1d2117ba70"
      },
      "execution_count": 39,
      "outputs": [
        {
          "output_type": "execute_result",
          "data": {
            "text/plain": [
              "'Inteligência artificial'"
            ],
            "application/vnd.google.colaboratory.intrinsic+json": {
              "type": "string"
            }
          },
          "metadata": {},
          "execution_count": 39
        }
      ]
    },
    {
      "cell_type": "code",
      "source": [
        "query_1.url"
      ],
      "metadata": {
        "colab": {
          "base_uri": "https://localhost:8080/",
          "height": 35
        },
        "id": "nvuJitlZ0QOq",
        "outputId": "d9a438e2-3de0-4e1f-a758-415ed9748226"
      },
      "execution_count": 40,
      "outputs": [
        {
          "output_type": "execute_result",
          "data": {
            "text/plain": [
              "'https://pt.wikipedia.org/wiki/Intelig%C3%AAncia_artificial'"
            ],
            "application/vnd.google.colaboratory.intrinsic+json": {
              "type": "string"
            }
          },
          "metadata": {},
          "execution_count": 40
        }
      ]
    },
    {
      "cell_type": "code",
      "source": [
        "query_1.content"
      ],
      "metadata": {
        "colab": {
          "base_uri": "https://localhost:8080/",
          "height": 140
        },
        "id": "b7Gq5BEw0sDv",
        "outputId": "758b0732-773c-48de-cc4e-5bcecde5fd6a"
      },
      "execution_count": 45,
      "outputs": [
        {
          "output_type": "execute_result",
          "data": {
            "text/plain": [
              "'Na informática, a Inteligência Artificial (abreviado IA) genericamente é a inteligência, o raciocínio e, o aprendizado exibida por máquinas semelhante ao raciocino humano; busca desenvolver máquinas autônomas ou sistemas especialistas capazes de simular o pensamento humano e realizar varias tarefas complexas de forma independente. É o sistema que permite aos computadores executar funções avançadas, como a capacidade de analisar dados em grande escala e fazer previsões/recomendações; É um campo de pesquisa em ciência da computação que desenvolve e estuda métodos e softwares que permitem que as máquinas percebam seu ambiente e usem o aprendizado e a inteligência para tomar ações que maximizem suas chances de atingir objetivos definidos. A IA iniciou na década de 1950 com os pesquisadores Alan Turing e Herbert Simon baseado no conceito do filósofo grego Aristóteles.\\nEm 1950, Allan Turing escreveu sobre ser possível uma máquina pensar, e imitar o comportamento humano inteligente com perfeição. Turing também esboçaou uma proposta de pesquisa para tornar isto possível.\\nAplicações de IA incluem mecanismos avançados de busca na web (por exemplo, Google Search); sistemas de recomendação (usados pelo YouTube, Amazon e Netflix); assistentes virtuais (por exemplo, Google Assistant, Siri e Alexa ); veículos autônomos (por exemplo, Waymo); ferramentas generativas e criativas (por exemplo, ChatGPT, DeepSeek e AI art); e jogo e análise sobre-humanos em jogos de estratégia (por exemplo, xadrez e Go). No entanto, muitas aplicações de IA não são percebidas como IA porque já se tornaram comuns o suficiente no cotidiano das pessoas. Como por exemplo, o reconhecimento óptico de caracteres (OCR) que extrai o texto de imagens, transforma conteúdo não estruturado em dados estruturados com insights pronto para negócios. \\nA IA é um campo que abrange muitas disciplinas, como: ciência da computação, estatísticas, engenharia de hardware e de software, linguística, neurociência e, filosofia.  Vários subcampos da pesquisa em IA são centrados em objetivos específicos e no uso de ferramentas específicas. Os objetivos tradicionais da pesquisa em IA incluem raciocínio, representação de conhecimento, planejamento, aprendizagem, processamento de linguagem natural, percepção e suporte à robótica. A inteligência geral — a capacidade de completar qualquer tarefa realizada por um humano em um nível pelo menos igual — está entre os objetivos de longo prazo do campo. Para atingir esses objetivos, os pesquisadores de IA adaptaram e integraram uma ampla gama de técnicas, incluindo otimização matemática e de busca, lógica formal, redes neurais artificiais e métodos baseados em estatística, pesquisa operacional e economia. A IA também se baseia na psicologia, linguística, filosofia, neurociência e em outros campos.\\nA inteligência artificial foi fundada como disciplina acadêmica em 1956 e o campo passou por múltiplos ciclos de otimismo ao longo de sua história, seguidos por períodos de decepção e perda de financiamento. Os recursos e o interesse aumentaram enormemente após 2012, quando a aprendizagem profunda superou as técnicas de IA anteriores. Este crescimento acelerou ainda mais depois de 2017 e no início da década de 2020 muitos milhares de milhões de dólares estavam a ser investidos em IA e o campo experimentou um rápido progresso contínuo no que ficou conhecido como o boom da IA. O surgimento da IA generativa avançada e sua capacidade de criar e modificar conteúdo expôs diversas consequências e danos não intencionais no presente e levantou preocupações sobre os riscos da IA e seus efeitos de longo prazo no futuro, gerando discussões sobre políticas regulatórias para garantir a segurança e os benefícios da tecnologia.\\n\\n\\n== História ==\\n\\nO interesse no desenvolvimento de máquinas autônomas capazes de simular o pensamento humano e de realizar varias tarefas cresceu vertiginosamente nas últimas décadas, da segunda metade do século XX, realizando assim os primeiros estudos sobre inteligência artificial (IA) a um propósito comum, a partir de iniciativas de cientistas de diversas áreas, como: psicologia, ciência cognitiva, ciência da computação e, robótica. Ferramentas eficientes em analisar problemas e oferecer soluções e planejamentos (tomada de decisão), automatização de tarefas no cotidiano das pessoas.\\nMas apesar dos estudos serem modernos, o conceito de inteligência artificial não é contemporâneo; Aristóteles (professor de Alexandre, o Grande) sonhava em substituir a mão-de-obra escrava por ferramentas autônomas, sendo esta possivelmente a primeira ideia de Inteligência Artificial relatada, que a ciência da computação exploraria muito tempo depois. O desenvolvimento dessa ideia ocorreu plenamente no século XX, principalmente na década de 1950, com pensadores como Allan Turing, Herbert Simon e, John McCarthy. Turing escreveu o artigo \"Computing Machinery and InteIligence\" sobre a possibilidade de uma máquina pensar e imitar o comportamento humano inteligente com tal perfeição, de forma que pudesse confundir ate um juiz humano. Turing também esboçou uma proposta de pesquisa para tornar possível. Inicialmente os teste em IA foram repletos de sucessos – porém limitados devido o desempenho reduzido dos primeiros computadores - oque causava surpresa, foi o fato de um computador realizar atividade remotamente inteligente.\\nO sucesso inicial prosseguiu em 1957 com o General Problem Solver (GPS, Solucionador de problemas gerais) desenvolvido por Herbert Simon e Allen Newell, um programa foi projetado para imitar protocolos humanos de resolução de problemas. Dentro da classe limitada de quebra-cabeças com a qual podia lidar, verificou-se que a ordem em que os seres humanos abordavam os mesmos problemas. Desse modo, o GPS talvez tenha sido o primeiro programa a incorporar a abordagem de “pensar de forma humana”.\\nEm 1961, a proposta de Turing voltou no artigo de Herbert Simon e Allen Newell no artigo \"The Simulation of Human Thought\" sobre o teste de uma teoria de resolução humana de problemas. Esta teoria tenta explicar alguns aspectos dos processos mentais responsáveis pela inteligencia humana, um projeto de estudos  conhecido pelo nome de Projeto de Simulação Cognitiva. \\nDesde o início os fundamentos da inteligência artificial tiveram o suporte de várias disciplinas que contribuíram com ideias, pontos de vista e técnicas para a IA. Os filósofos (desde 400 a.C.) tornaram a IA concebível, considerando as ideias de que a mente é, em alguns aspectos, semelhante a uma máquina, de que ela opera sobre o conhecimento codificado em alguma linguagem interna e que o pensamento pode ser usado para escolher as ações que deverão ser executadas. Por sua vez, os matemáticos forneceram as ferramentas para manipular declarações de certeza lógica, bem como declarações incertas e probabilísticas. Eles também definiram a base para a compreensão da computação e do raciocínio sobre algoritmos.\\nOs economistas formalizaram o problema de tomar decisões que maximizam o resultado esperado para o tomador de decisões. Os psicólogos adotaram a ideia de que os seres humanos e os animais podem ser considerados máquinas de processamento de informações. Os linguistas mostraram que o uso da linguagem se ajusta a esse modelo. Os engenheiros de computação fornecem os artefatos que tornam possíveis as aplicações de IA. Os programas de IA tendem a ser extensos e não poderiam funcionar sem os grandes avanços em velocidade e memória que a indústria de informática tem proporcionado.\\nAtualmente, a IA abrange uma enorme variedade de subcampos. Dentre esses subcampos está o estudo de modelos conexionistas ou redes neurais. Uma rede neural pode ser vista como um modelo matemático simplificado do funcionamento do cérebro humano. Este consiste de um número muito grande de unidades elementares de processamento, ou neurônios, que recebem e enviam estímulos elétricos uns aos outros, formando uma rede altamente interconectada.\\nNo processamento, são compostos os estímulos recebidos conforme a intensidade de cada ligação, produzindo um único estímulo de saída. É o arranjo das interconexões entre os neurônios e as respectivas intensidades que define as principais propriedades e o funcionamento de uma RN. O estudo das redes neurais ou o conexionismo se relaciona com a capacidade dos computadores aprenderem e reconhecerem padrões. Podemos destacar também o estudo da biologia molecular na tentativa de construir vida artificial e a área da robótica, ligada à biologia e procurando construir máquinas que alojem vida artificial. Outro subcampo de estudo é a ligação da IA com a Psicologia, na tentativa de representar na máquina os mecanismos de raciocínio e de procura.\\nNos últimos anos, houve uma revolução no trabalho em inteligência artificial, tanto no conteúdo quanto na metodologia. Agora, é mais comum usar as teorias existentes como bases, em vez de propor teorias inteiramente novas, fundamentar as informações em teoremas rigorosos ou na evidência experimental rígida, em vez de utilizar como base a intuição e destacar a relevância de aplicações reais em vez de exemplos hipotéticos.\\nA utilização da IA permite obter não somente ganhos significativos de performance, mas também possibilita o desenvolvimento de aplicações inovadoras, capazes de expandir de forma extraordinária nossos sentidos e habilidades intelectuais. Cada vez mais presente, a inteligência artificial simula o pensamento humano e se alastra por nosso cotidiano. Em maio de 2017 no Brasil, foi criada a ABRIA (Associação Brasileira de Inteligência Artificial) com o objetivo de mapear iniciativas brasileiras no setor de  inteligência artificial, englobando os esforços entre as empresas nacionais e formação de mão de obra especializada. Esse passo reforça que, atualmente, a inteligência artificial é impactante no setor econômico.\\n\\n\\n=== Investigação na IA experimental ===\\nA inteligência artificial começou como um campo experimental na década de 1950 com pioneiros como Allen Newell e Herbert Simon, que fundaram o primeiro laboratório de inteligência artificial na Universidade Carnegie Mellon, e McCarty que juntamente com Marvin Minsky, que fundaram o MIT AI Lab em 1959. Foram eles alguns dos participantes na famosa conferência de verão de 1956 em Darthmouth College.\\nHistoricamente, existem dois grandes estilos de investigação em IA: IA \"neats\" e IA \"scruffies\".  A IA \"neats\", limpa, clássica ou simbólica. Envolve a manipulação de símbolos e de conceitos abstractos, e é a metodologia utilizada na maior parte dos sistemas periciais.\\nParalelamente a esta abordagem existe a abordagem IA \"scruffies\", ou  \"coneccionista\", da qual as redes neuronais são o melhor exemplo. Esta abordagem cria sistemas que tentam gerar inteligência pela aprendizagem e adaptação em vez da criação de sistemas desenhados com o objectivo especifico de resolver um problema. Ambas as abordagems apareceram num estágio inicial da história de IA. Nas décadas de 1960/70 os coneccionistas foram retirados do primeiro plano da investigação em IA, mas o interesse por esta vertente da IA foi retomada na década de 1980, quando as limitações da IA \"limpa\" começaram a ser percebidas.\\nPesquisas sobre inteligência artificial foram intensamente custeadas na década de 1980 pela Agência de Projetos de Pesquisas Avançadas sobre Defesa (“Defense Advanced Research Projects Agency”), nos Estados Unidos, e pelo Projeto da Quinta Geração (“Fifth Generation Project”), no Japão. O trabalho subsidiado fracassou no sentido de produzir resultados imediatos, a despeito das promessas grandiosas de alguns praticantes de IA, o que levou proporcionalmente a grandes cortes de verbas de agências governamentais no final dos anos 80, e em consequência a um arrefecimento da atividade no setor, fase conhecida como O inverno da IA. No decorrer da década seguinte, muitos pesquisadores de IA mudaram para áreas relacionadas com metas mais modestas, tais como aprendizado de máquinas, robótica e visão computacional, muito embora pesquisas sobre IA pura continuaram em níveis reduzidos.\\n\\n\\n== Abordagens principais ==\\nExistem duas abordagens principais para a criação de Sistemas de Inteligência Artificial: O Simbolismo e o Conexionismo.\\nO Simbolismo ou IA Simbólica, propõe a representação de conhecimento por meio da manipulação de símbolos, isto é, na forma de estruturas construídas por seres humanos, normalmente baseadas em noções de Lógica. Ela teve grande impulso durante uma fase onde foram criados muitos Sistemas Especialistas, muitos deles baseados em Lógica de Primeira Ordem, implementados em Prolog, ou em linguagens de programação derivadas desta ou especializadas, como CLIPS. Normalmente programas desse tipo têm o conhecimento programado diretamente por seres humanos, o que levou a trabalhos de elicitação de conhecimento. Apesar do sucesso inicial dos Sistemas Especialistas, a grande dificuldade de levantar e registrar conhecimento a partir de humanos e o sucesso dos processos de aprendizado de máquina a partir de dados levou a dimimuição da importância dessa vertente.\\nO Conexionismo ou IA Conexionista, se baseia em um modelo matemático inspirado no funcionamento dos neurônios, e depende do aprendizado de máquina baseado em grandes massas de dados para calibrar esse modelo, que normalmente começa com parâmetros aleatórios. Essa abordagem, apesar de proposta muito cedo, não encontrou computadores capazes de modelar problemas complexos, apesar de ter sucesso com problemas restritos de reconhecimento de padrão, o que só acontece a partir da década de 2010, com resultados extramemente fortes no final dessa década e no início da década de 2020, a partir de modelos contendo bilhões de parametros, como o GPT-3 e conceitos como Redes Neurais Profundas, Transformers,  e Atenção.\\nEm torno de 2022, a maior parte da pesquisa em IA gira em torno  dos conceitos de Aprendizado de Máquina e Conexionismo, havendo também propostas para sistemas híbridos.\\n\\n\\n== Definição do termo ==\\nA questão sobre o que é \"inteligência artificial\", mesmo como definida anteriormente, pode ser separada em duas partes: \"qual a natureza do artificial\" e \"o que é inteligência\". A primeira questão é de resolução relativamente fácil, apontando no entanto para a questão de o que poderá o homem construir.\\nA segunda questão seria consideravelmente mais difícil, levantando a questão da consciência, identidade e mente (incluindo a mente inconsciente) juntamente com a questão de que componentes estão envolvidos no único tipo de inteligência que universalmente se aceita como estando ao alcance do nosso estudo: a inteligência do ser humano. O estudo de animais e de sistemas artificiais que não são modelos triviais começa a ser considerado como pauta de estudo na área da inteligência.\\nAo conceituar inteligência artificial, presume-se a interação com o ambiente, diante de necessidades reais como relações entre indivíduos semelhantes, a disputa entre indivíduos diferentes, perseguição e fuga; além da comunicação simbólica específica de causa e efeito em diversos níveis de compreensão intuitiva, consciente ou não.\\nSuponhamos uma competição de cara ou coroa, cujos resultados sejam observados ou não. Se na segunda tentativa der o mesmo resultado que a primeira, então não existiam as mesmas chances para ambas opções iniciais. Claro que a coleta de informação em apenas duas amostragens é confiável apenas porque a quantidade de tentativas é divisível pelo número de opções de resultados prováveis.\\nA verdade é que o conceito de cara ou coroa está associado a artigos de valor, como moedas e medalhas que podem evitar que as pessoas abandonem o jogo e induza os participantes a acompanhar os resultados até o final. Para manter a disposição do adversário em desafiar a máquina seria necessário aparentar fragilidade e garantir a continuidade da partida. Isso é muito utilizado em máquinas de cassino, sendo que vários apostadores podem ser induzidos a dispensar consideráveis quantias em apostas.\\nA utilização de uma máquina de resultados pode compensar a ausência de um adversário, mas numa partida de xadrez, por exemplo, para que a máquina não precise armazenar todas as informações que excedem a capacidade de próprio universo imaginável são necessárias fórmulas que possam ser armazenadas para que então sejam calculadas por princípios físicos, lógicos, geométricos, e estatísticos para refletir o sistema completo em cada uma das suas partes; como a integração do Google com Wikipédia, por exemplo.\\nUma popular e inicial definição de inteligência artificial, introduzida por John McCarthy na famosa conferência de Dartmouth em 1956 é \"fazer a máquina comportar-se de tal forma que seja chamada inteligente caso fosse este o comportamento de um ser humano.\" No entanto, esta definição parece ignorar a possibilidade de existir a IA forte (ver abaixo).\\nOutra definição de Inteligência Artificial é a inteligência que surge de um \"dispositivo artificial\". A maior parte das definições podem ser categorizadas em sistemas que: \"pensam como um humano; agem como um humano; pensam racionalmente ou agem racionalmente\".\\n\\n\\n== Campo de estudo ==\\nOs principais pesquisadores e livros didáticos definem o campo como \"o estudo e projeto de agentes inteligentes\", onde um agente inteligente é um sistema que percebe seu ambiente e toma atitudes que maximizam suas chances de sucesso. Andreas Kaplan e Michael Haenlein definem a inteligência artificial como “uma capacidade do sistema para interpretar corretamente dados externos, aprender a partir desses dados e utilizar essas aprendizagens para atingir objetivos e tarefas específicas através de adaptação flexível”. John McCarthy, quem cunhou o termo em 1956 (\"numa conferência de especialistas celebrada em Darmouth Colege\" Gubern, Román: O Eros Eletrónico), a define como \"a ciência e engenharia de produzir sistemas inteligentes\". É uma área de pesquisa da computação dedicada a buscar métodos ou dispositivos computacionais que possuam ou multipliquem a capacidade racional do ser humano de resolver problemas, pensar ou, de forma ampla, ser inteligente. Também pode ser definida como o ramo da ciência da computação que se ocupa do comportamento inteligente ou ainda, o estudo de como fazer os computadores realizarem coisas que, atualmente, os humanos fazem melhor.\\n\\n\\n== Abordagens filosóficas ==\\nNão existe uma teoria ou paradigma unificador que orienta a pesquisa de IA. Pesquisadores discordam sobre várias questões. Algumas das perguntas constantes mais longas que ficaram sem resposta são as seguintes: a inteligência artificial deve simular inteligência natural, estudando psicologia ou neurociência? Ou será que a biologia humana é tão irrelevante para a pesquisa de IA como a biologia das aves é para a engenharia aeronáutica? O comportamento inteligente pode ser descrito usando princípios simples e elegantes (como lógica ou otimização)? Ou ela necessariamente requer que se resolva um grande número de problemas completamente não relacionados? A inteligência pode ser reproduzida usando símbolos de alto nível, similares às palavras e ideias? Ou ela requer processamento \"sub-simbólico\"? John Haugeland, que cunhou o termo GOFAI (Good Old-Fashioned Artificial Intelligence - Boa Inteligência Artificial à Moda Antiga), também propôs que a IA deve ser mais apropriadamente chamada de inteligência sintética, um termo que já foi adotado por alguns pesquisadores não-GOFAI.\\n\\n\\n=== Cibernética e simulação cerebral ===\\nNos anos de 1940 e 1950, um número de pesquisadores exploraram a conexão entre neurologia, teoria da informação e cibernética. Alguns deles construíram máquinas que usaram redes eletrônicas para exibir inteligência rudimentar, como as tartarugas de W. Grey Walter e a Besta de Johns Hopkins. Muitos desses pesquisadores se reuniram para encontros da Sociedade teleológica da Universidade de Princeton e o Ratio Club na Inglaterra. Em 1960, esta abordagem foi abandonada, apesar de seus elementos serem revividos na década de 1980.\\n\\n\\n=== Sub-simbólica ===\\nInteligência computacional\\nInteresse em redes neurais e \"conexionismo\" foi revivida por David Rumelhart e outros em meados de 1980. Estas e outras abordagens sub-simbólicas, como sistemas de fuzzy e computação evolucionária, são agora estudados coletivamente pela disciplina emergente inteligência computacional.\\n\\n\\n== Tipos ==\\n\\n\\n=== Tipo fraca ou inteligência artificial limitada (ANI) ===\\nSão máquinas ou sistemas inteligentes que não fazem raciocínio; é limitada porque foi projetada para fazer uma tarefa específica, após ser treinado por um humano. Não aprende de forma autônoma.\\n\\n\\n=== Tipo forte ou inteligência artificial geral (AGI) ===\\nA AGI possui a habilidade de compreender e adaptar-se a vários contextos (e desafios) de forma autônoma sem a necessidade treinamento. Máquinas com inteligência versátil semelhante à humana, aprende de forma autônoma. \\n\\n\\n=== Superinteligência artificial (ASI) ===\\nConsiderada o futuro da IA (especulação), com a criação de máquinas com capacidade de tomar decisões e analisar dados de forma extremamente rápida, superando a IA forte.\\n\\n\\n=== Máquinas reativas ou reacionárias ===\\nConseguem responder rapidamente as tarefas imediatas, mas não conseguem armazenar memória, não melhoraram sua funcionalidade com a experiência (não aprendem). Como por exemplo o mecanismo de recomendação da Netflix, que analisa o histórico do usuário para sugerir um filme/série.\\n\\n\\n=== Aprendizado de máquina (Machine Learning) ===\\nÉ um subcampo da inteligência artificial, na qual uma máquina aprende, ou seja, é ensinada a partir de algoritmos a realizar uma tarefa determinada, entendendo um padrão.\\n\\n\\n=== Redes neurais artificiais ===\\nUma estrutura computacional inspirado na estrutura neural do ser humano para simular o cérebro humano, como por exemplo o algoritmo usado no buscador do Google; esta reconhece os termos pesquisados, busca os sinônimos e, assuntos relacionados para assim gerar melhores resultados.\\n\\n\\n=== Teoria da mente em IA ===\\nÉ um sistema inteligente com habilidade de interpretar as emoções de pessoas e animais. Um termo emprestado da psicologia, que é a habilidade dos humanos de ler as emoções dos outros e prever ações.\\n\\n\\n=== IA Autoconsciente ===\\nAutoconsciente ou  ponto de singularidade da IA, é um estágio hipotético da inteligência artificial em que as máquinas possuem autoconsciência. Um estágio além da teoria da mente e é um dos objetivos finais no desenvolvimento da IA.\\n\\n\\n=== Processamento de linguagem natural (NLP) ===\\nPermite que as máquinas/sistemas conversem com os humanos usando a linguagem humana, como por exemplo o uso da Alexa e da Siri. Os assistentes pessoais fazem parte da Inteligência Artificial Estreita (ANI),  limitação da IA de executar um conjunto de tarefas específicas. Os sistemas de navegação fazem tarefas bem definidas, como encontrar a rota mais rápida de um ponto a outro.\\n\\n\\n=== Visão computacional ===\\nFaz analise e descreve imagens e vídeos, podendo reconhecer objetos e detectar movimentos, mapear um ambiente físico.\\n\\n\\n=== Robótica autônoma ===\\nSão máquinas ou sistemas inteligentes usados na indústria , que possuem a capacidade de tomar decisões/fazer ações programadas a partir da coleta de informações do ambiente (como por exemplo a humidade e a temperatura). Capacidade de identificar objetos e capacidade de navegar em diferentes ambientes de forma autônoma, como por exemplo a Figure-AI está construindo robôs humanoides bípedes para trabalharem com os humanos.\\n\\n\\n=== Processamento de áudio e voz ===\\nIA que é cria voz humana  realista, transformando texto em voz, modificação do timbre, entonação da fala e, velocidade da voz.\\n\\n\\n=== Inteligência artificial criativa ===\\nSão sistemas inteligentes que conseguem criar roteiros, poesias, imagens e vídeos, não limitado apenas em analisar dados.\\n\\n\\n== IA forte e IA fraca ==\\nEntre os teóricos que estudam o que é possível fazer com a IA existe uma discussão onde se consideram duas propostas básicas: uma conhecida como \"forte\" e outra conhecida como \"fraca\". Basicamente, a hipótese da IA forte considera ser possível criar uma máquina consciente, ou seja, afirma que os sistemas artificiais devem replicar a mentalidade humana.\\n\\n\\n=== Inteligência artificial forte ===\\nA investigação em Inteligência Artificial Forte aborda a criação da forma de inteligência baseada em computador que consiga raciocinar e resolver problemas; uma forma de IA forte é classificada como auto-consciente.\\nA IA forte é tema bastante controverso, pois envolve temas como consciência e fortes problemas éticos ligados ao que fazer com uma entidade que seja cognitivamente indistinguível de seres humanos.\\nA ficção científica tratou de muitos problemas desse tipo. Isaac Asimov, por exemplo, escreveu O Homem Bicentenário, onde um robô consciente e inteligente luta para possuir um status semelhante ao de um humano na sociedade. E Steven Spielberg dirigiu \"A.I. Inteligência Artificial\" onde um garoto-robô procura conquistar o amor de sua \"mãe\", procurando uma maneira de se tornar real. Por outro lado, o mesmo Asimov reduz os robôs a servos dos seres humanos ao propor as três leis da robótica.\\nStephen Hawking alertou sobre os perigos da inteligência artificial e considerou uma ameaça à sobrevivência da humanidade (ver: Rebelião das máquinas).\\n\\n\\n=== Inteligência artificial fraca ===\\nTrata-se da noção de como lidar com problemas não determinísticos. Uma contribuição prática de Alan Turing foi o que se chamou depois de Teste de Turing (TT), de 1950: em lugar de responder à pergunta \"podem-se ter computadores inteligentes?\" ele formulou seu teste, que se tornou praticamente o ponto de partida da pesquisa em \"Inteligência Artificial\".\\nO teste consiste em se fazer perguntas a uma pessoa e um computador escondidos. Um computador e seus programas passam no TT se, pelas respostas, for impossível a alguém distinguir qual interlocutor é a máquina e qual é a pessoa. No seu artigo original ele fez a previsão de que até 2000 os computadores passariam seu teste. Pois bem, há um concurso anual de programas para o TT, e o resultado dos sistemas ganhadores é tão fraco (o último tem o nome \"Ella\") que com poucas perguntas logo percebe-se as limitações das respostas da máquina. É interessante notar que tanto a Máquina de Turing quanto o Teste de Turing talvez derivem da visão que Turing tinha de que o ser humano é uma máquina.\\nHá quem diga que essa visão está absolutamente errada, do ponto de vista linguístico, já que associamos à \"máquina\" um artefato inventado e eventualmente construído. Dizem eles: \"Nenhum ser humano foi inventado ou construído\". Afirma-se ainda que a comparação, feita por Turing, entre o homem e a máquina é sinônimo de sua \"ingenuidade social\", pois as máquinas são infinitamente mais simples do que o homem, apesar de, paradoxalmente, se afirmar que a vida é complexa. No entanto, esta linha de raciocínio é questionável, afinal de contas, os computadores modernos podem ser considerados \"complexos\" quando comparados ao COLOSSUS (computador cujo desenvolvimento foi liderado por Tommy Flowers, em 1943), ou a qualquer máquina do início do século XX.\\nA inteligência artificial fraca centra a sua investigação na criação de inteligência artificial que não é capaz de verdadeiramente raciocinar e resolver problemas. Uma tal máquina com esta característica de inteligência agiria como se fosse inteligente, mas não tem autoconsciência ou noção de si. O teste clássico para aferição da inteligência em máquinas é o Teste de Turing.\\nHá diversos campos dentro da IA fraca, e um deles é o Processamento de linguagem natural, que trata de estudar e tentar reproduzir os processos de desenvolvimento que resultaram no funcionamento normal da língua. Muitos destes campos utilizam softwares específicos e linguagens de programação criadas para suas finalidades. Um exemplo é o chatbot Eliza, desenvolvido por Joseph Weizenbaum no laboratório de Inteligência Artificial do MIT entre os anos de 1964 e 1966. Outro exemplo bastante conhecido é o programa A.L.I.C.E. (Artificial Linguistic Internet Computer Entity, ou Entidade Computadorizada de Linguagem Artificial para Internet), um software que simula uma conversa humana. Programado em Java e desenvolvido com regras heurísticas para os caracteres de conversação, seu desenvolvimento resultou na AIML (Artificial Intelligence Markup Language), uma linguagem específica para tais programas e seus vários clones, chamados de Alicebots.\\nMuito do trabalho neste campo tem sido feito com simulações em computador de inteligência baseado num conjunto predefinido de regras. Poucos têm sido os progressos na IA forte. Mas dependendo da definição de IA utilizada, pode-se dizer que avanços consideráveis na IA fraca já foram alcançados.\\n\\n\\n=== IA forte: críticas filosóficas e polêmicas ===\\n\\nMuitos filósofos, sobretudo John Searle e Hubert Dreyfus, inseriram no debate questões de ordem filosófica e epistemológica, questionando qualquer possibilidade efetiva da IA forte. Seriam falsos, assim, os próprios pressupostos da construção de uma inteligência ou consciência semelhante à humana em uma máquina.\\nSearle é bastante conhecido por seu contra-argumento sobre o Quarto Chinês (ou Sala Chinesa), que inverte a questão colocada por Minsky a respeito do Teste de Turing. Seu argumento diz que ainda que uma máquina possa parecer falar chinês por meio de recursos de exame comparativo com mostras e tabelas de referência, binárias, isso não implica que tal máquina fale e entenda efetivamente a língua. Ou seja, demonstrar que uma máquina possa passar no Teste de Turing não necessariamente implica um ser consciente, tal como entendido em seu sentido humano. Dreyfus, em seu livro O que os computadores ainda não conseguem fazer: Uma crítica ao raciocínio artificial, argumenta que a consciência não pode ser adquirida por sistemas baseados em regras ou lógica; tampouco por sistemas que não façam parte de um corpo físico. No entanto, este último autor deixa aberta a possibilidade de um sistema robótico baseado em Redes Neuronais, ou em mecanismos semelhantes, alcançar a inteligência artificial.\\nMas já não seria a referida IA forte, mas sim um correlato bem mais próximo do que se entende por IA fraca. Os revezes que a acepção primeira de Inteligência Artificial vem levando nos últimos tempos contribuíram para a imediata relativização de todo seu legado. O papel de Marvin Minsky, figura proeminente do MIT e autor de Sociedade da Mente, fora central para a acepção de uma IA linear que imitaria com perfeição a mente humana, mas seu principal feito foi construir o primeiro computador baseado em redes neurais, conhecido como Snark, tendo simplesmente fracassado pois nunca executou qualquer função interessante, apenas consumiu recursos de outras pesquisas mais promissoras. O primeiro neuro computador a obter sucesso (Mark I Perceptron) surgiu em 1957 e 1958, criado por Frank Rosenblatt, Charles Wightman e outros. Atualmente, no entanto, as vertentes que trabalham com os pressupostos da emergência e com elementos da IA fraca parecem ter ganhado proeminência do campo.\\nAs críticas sobre a impossibilidade de criar uma inteligência em um composto artificial podem ser encontradas em Jean-François Lyotard (O Pós-humano) e Lucien Sfez (Crítica da Comunicação); uma contextualização didática do debate encontra-se em Sherry Turkle (O segundo Eu: os computadores e o espírito humano). Pode-se resumir o argumento central no fato de que a própria concepção de inteligência é humana e, nesse sentido, animal e biológica. A possibilidade de transportá-la para uma base plástica, artificial, encontra um limite claro e preciso: se uma inteligência puder ser gerada a partir destes elementos, deverá ser necessariamente diferente da humana, na medida em que o seu resultado provém da emergência de elementos totalmente diferentes dos encontrados nos humanos. A inteligência, tal como a entendemos, é essencialmente o fruto do cruzamento da uma base biológica com um complexo simbólico e cultural, impossível de ser reproduzido artificialmente.\\nOutros filósofos sustentam visões diferentes. Ainda que não vejam problemas com a IA fraca, entendem que há elementos suficientes para se crer na IA forte também. Daniel Dennett argumenta em Consciência Explicada que se não há uma centelha mágica ou alma nos seres humanos, então o Homem é apenas uma outra máquina. Dennett questiona por que razão o Homem-máquina deve ter uma posição privilegiada sobre todas as outras possíveis máquinas quando provido de inteligência.\\nAlguns autores sustentam que se a IA fraca é possível, então também o é a forte. O argumento da IA fraca, de uma inteligência imitada mas não real, desvelaria assim uma suposta validação da IA forte. Isso se daria porque, tal como entende Simon Blackburn em seu livro Think, dentre outros, não existe a possibilidade de verificar se uma inteligência é verdadeira ou não. Estes autores argumentam que toda inteligência apenas parece inteligência, sem necessariamente o ser. Parte-se do princípio que é impossível separar o que é inteligência de fato do que é apenas simulação: apenas acredita-se ser.\\nEstes autores rebatem os argumentos contra a IA forte dizendo que seus críticos reduzem-se a arrogantes que não podem entender a origem da vida sem uma centelha mágica, um Deus ou uma posição superior qualquer. Eles entenderiam, em última instância, máquina como algo essencialmente incapaz e sequer conseguem supô-la como capaz de inteligência. Nos termos de Minsky, a crítica contra a IA forte erra ao supor que toda inteligência derive de um sujeito - tal como indicado por Searle - e assim desconsidera a possibilidade de uma maquinaria complexa que pudesse pensar. Mas Minsky desconsidera o simples fato de que os maiores avanços na área foram conseguidos com \"maquinaria complexa\", também chamada por pesquisadores mais importantes de Inteligência Artificial Conexista. Se a crítica de Minsky fosse válida a maquina criada por Rosenblatt e Bernard Widrow não estaria em uso ainda hoje, e o Mark I Perceptron não seria o fundador da neuro-computação. Alguns pesquisadores importantes afirmam que um dos motivos das críticas de Minsky foi o fato de ter falhado com Snark. A partir daí começou a criticar essa área por não compreende-la completamente, prejudicando desde então pesquisas importantes sobre o assunto.\\nO debate sobre a IA reflete, em última instância, a própria dificuldade da ciência contemporânea em lidar efetivamente com a ausência de um primado superior. Os argumentos pró-IA forte são esclarecedores dessa questão, pois são os próprios cientistas, que durante décadas tentaram e falharam ao criar uma IA forte, que ainda procuram a existência de uma ordem superior. Ainda que a IA forte busque uma ordem dentro da própria conjugação dos elementos internos, trata-se ainda da suposição de que existe na inteligência humana uma qualidade superior que deve ser buscada, emulada e recriada. Reflete, assim, a difícil digestão do legado radical da Teoria da Evolução, onde não existe positividade alguma em ser humano e ser inteligente; trata-se apenas de um complexo de relações que propiciaram um estado particular, produto de um cruzamento temporal entre o extrato biológico e uma complexidade simbólica.\\nÉ argumentado também que a inteligência artificial ainda não é desenvolvida ao ponto de atuar como o cérebro humano, de forma criativa. Ademais, o cérebro humano ainda não é suficientemente compreendido. Portanto, a ideia de replicar funções do cérebro humano é atualmente intangível.\\nA IA pode ser uma arma quando usada por pessoas mal-intencionadas, como por exemplo o uso da ferramenta deepfake para golpe. A criação destes sistemas podem gerar vazamento de dados ou acidentes com veículos autônomos.\\n\\n\\n=== Impossibilidade de Simulação Qualitativa ===\\nFoi provado que um simulador qualitativo, completo e robusto não pode existir, ou seja, desde que o vocabulário entrada-saída seja usado (como num algoritmo QSIM), haverá sempre modelos de entrada que causam predições erradas na sua saída. Por exemplo, a noção de infinito é impossível ser tida por uma máquina finita (computador ou neurónios se produzirem apenas um número finito de resultados num número finito de tempo). Neste caso é um simples paradoxo matemático, porque são em número finito as combinações saídas de qualquer conjunto finito. Se a noção de infinito pudesse ser obtida por uma certa combinação finita, isso significaria que o infinito seria equivalente a essa sequência finita, o que é obviamente uma contradição. Por isso, o infinito e outras noções abstratas têm que ser pré-adquiridas numa máquina finita, não são aí programáveis.\\n\\n\\n== Aplicações ==\\n\\nA inteligência artificial, em um contexto amplo, possui aplicações diversas, sendo empregada na resolução de problemas práticos por entidades civis, governamentais, e militares. Possui aplicações na área da saúde, mídia e comércio eletrônico, entre outros. Há uma discussão sobre como a IA tem sido integrada em sistemas de planejamento automatizado, diagnóstico médico, utilização por advogados (IA para advogados), reconhecimento de linguagem e muito mais, mostrando a ampla gama de aplicações e o impacto profundo da IA em múltiplas áreas.\\n\\n\\n== Pesquisadores ==\\nAtualmente existem diversos pesquisadores de IA ao redor do mundo em várias instituições e companhias de pesquisa. Entre os muitos que fizeram contribuições significativas estão:\\n\\n\\n=== Alan Turing (1912-1954) ===\\nO matemático britânico Alan Turing foi um dos homens de maior importância não só para seu tempo, como para a atualidade. Com estudos que não só foram base para a existência da inteligência artificial, mas de quase todos os aparelhos eletrônicos já feitos. Criou o “Teste de Turing”, usado até hoje para descobrir o nível de inteligência de um programa de inteligência artificial. Esse teste não foi criado para analisar a capacidade de um computador de pensar por si mesmo, já que as máquinas são completamente incapazes disso, mas sim de identificar o quão bem ele pode imitar o cérebro humano.\\n\\n\\n=== John McCarthy (1927-2011) ===\\nMatemático, cientista, o criador do termo “inteligência artificial” e também o pai da linguagem de programação LISP. McCarthy foi considerado um dos primeiros homens a trabalhar no desenvolvimento da inteligência artificial e sempre disse que ela deveria interagir com o homem. Nascido na cidade de Boston, trabalhou na Universidade de Stanford e no Massachusetts Institute of Technology (MIT), além de ter vencido o prêmio Turing em 1972 e a Medalha Nacional de Ciência em 1991. Já a programação LISP, uma das maiores conquistas de McCarthy, surgiu em 1958 e serviu para facilitar o desenvolvimento da inteligência artificial. A linguagem é das mais antigas ainda em uso e foi usada pela primeira vez ao colocar um computador para jogar xadrez contra um adversário humano.\\n\\n\\n=== Marvin Minsky (1927-2016) ===\\nNatural de Nova Iorque, onde nasceu, o cientista recebeu diversos prémios internacionais pelo seu trabalho pioneiro no campo da inteligência artificial, incluindo em 1969, o Prêmio Turing, o maior prêmio em ciência informática. O cientista explorou a forma de dotar as máquinas de percepção e inteligência semelhantes à humana, criou mãos robóticas com capacidade para manipular objetos, desenvolveu novos marcos de programação e escreveu sobre assuntos filosóficos relacionados com a inteligência artificial. Minsky estava convencido de que o homem, um dia, desenvolveria máquinas que competiriam com a sua inteligência e via o cérebro como uma máquina cujo funcionamento pode ser estudado e reproduzido num computador, o que poderia ajudar a compreender melhor o cérebro humano e as funções mentais superiores.\\n\\n\\n=== Raj Reddy (1937) ===\\nInformático indiano naturalizado estadunidense, foi o primeiro asiático a vencer o Prêmio Turing. Entre suas contribuições para a IA estão a criação do Instituto de Robótica da CMU e demonstrações de diversos sistemas que usam alguma forma de IA. Entre esses sistemas, estão sistemas de: fala, controlados por voz, reconhecimento de voz, reconhecimento de voz independente do interlocutor, etc. Para Reddy, ao invés de substituir a humanidade, a tecnologia irá criar um novo tipo de humano que irá coexistir com seus antecessores enquanto se aproveita das vantagens de uma nova classe de ferramentas viabilizada pela tecnologia.\\n\\n\\n=== Terry Winograd (1946) ===\\nWinograd é um cientista da computação estadunidense, professor da Universidade Stanford, e codiretor do grupo de interação humano-computador de Stanford. É conhecido nas áreas de filosofia da mente e inteligência artificial por seu trabalho sobre língua natural usando o programa SHRDLU. Para Terry, não restam dúvidas de que a tecnologia da informática, mais precisamente a área de inteligência artificial, transformará as sociedades, introduzindo modificações socioeconômicas irreversíveis. Esse especialista procura saber se os seres humanos seriam capazes de construir máquinas que poderiam compreende-los, resolver seus problemas e dirigir suas vidas, além de buscar respostas sobre o que aconteceria se, algum dia, essas máquinas se tornassem mais inteligentes do que os próprios humanos que as criaram.\\n\\n\\n=== Douglas Lenat (1950) ===\\nNascido na Filadélfia, Pensilvânia, se formou na Universidade da Pensilvânia. Douglas Bruce Lenat é o Diretor Executivo do Cycorp e foi também um pesquisador proeminente em inteligência artificial, recebendo o prêmio bianual IJCAI Computers and Thought em 1976 pela criação do programa de aprendizado de máquinas. Ele também trabalhou em  simulações militares e em numerosos projetos para organizações governamentais, militares, científicas e de inteligência dos EUA. A missão de Lenat, no longo ciclo do projeto Cyc, iniciado em 1984, era de construir a base de uma inteligência artificial geral ao representar manualmente o conhecimento como axiomas lógicos contextualizados na linguagem formal com base em extensões ao cálculo de predicados de primeira ordem e em seguida, usar esse enorme motor de inferência de ontologia e a base de conhecimento contextualizada como um viés indutivo para automatizar e acelerar cada vez mais a educação contínua do próprio Cyc, via aprendizagem em máquina e compreensão da linguagem natural.\\n\\n\\n== Ver também ==\\nAlinhamento da inteligência artificial\\nInteligência artificial geral\\nLista de projetos de inteligência artificial\\nSegurança da inteligência artificial\\nOpenAI\\nOpenAI Codex\\nRealidade simulada\\nRobocode\\nTransferência de energia sem fio\\n\\n\\n== Referências ==\\n\\n\\n=== Bibliografia ===\\n\\n\\n== Ligações externas ==\\n«Programa do governo para defender suas questões». (em português) \\n«American Association for Artificial Intelligence» (em inglês) \\nHistória da IA no YouTube'"
            ],
            "application/vnd.google.colaboratory.intrinsic+json": {
              "type": "string"
            }
          },
          "metadata": {},
          "execution_count": 45
        }
      ]
    },
    {
      "cell_type": "code",
      "source": [
        "cv = CountVectorizer()\n",
        "X = np.array(cv.fit_transform([query_1.content, query_2.content, query_3.content, query_4.content]).todense())"
      ],
      "metadata": {
        "id": "AProHyb90U6-"
      },
      "execution_count": 43,
      "outputs": []
    },
    {
      "cell_type": "code",
      "source": [
        "X.shape"
      ],
      "metadata": {
        "colab": {
          "base_uri": "https://localhost:8080/"
        },
        "id": "LkPsrE-F1Yn1",
        "outputId": "7a6cae36-e52b-424c-bd21-51a103e09b2b"
      },
      "execution_count": 47,
      "outputs": [
        {
          "output_type": "execute_result",
          "data": {
            "text/plain": [
              "(4, 5050)"
            ]
          },
          "metadata": {},
          "execution_count": 47
        }
      ]
    },
    {
      "cell_type": "code",
      "source": [
        "X"
      ],
      "metadata": {
        "colab": {
          "base_uri": "https://localhost:8080/"
        },
        "id": "dqDj7UZa0jEk",
        "outputId": "31492b03-cd6e-43f6-b742-1232183343cc"
      },
      "execution_count": 44,
      "outputs": [
        {
          "output_type": "execute_result",
          "data": {
            "text/plain": [
              "array([[0, 0, 0, ..., 0, 0, 0],\n",
              "       [1, 0, 0, ..., 0, 0, 2],\n",
              "       [0, 1, 1, ..., 1, 1, 0],\n",
              "       [0, 0, 0, ..., 0, 0, 0]])"
            ]
          },
          "metadata": {},
          "execution_count": 44
        }
      ]
    },
    {
      "cell_type": "code",
      "source": [
        "# numero de palavras em cada pagina\n",
        "print(\"Inteligencia Artificial\", len(query_1.content.split()))\n",
        "print(\"Futebol\", len(query_2.content.split()))\n",
        "print(\"Aprendizado de maquinas\", len(query_3.content.split()))\n",
        "print(\"Voleibol\", len(query_4.content.split()))"
      ],
      "metadata": {
        "colab": {
          "base_uri": "https://localhost:8080/"
        },
        "id": "NAozSKIa1Cgu",
        "outputId": "439513be-0798-41d3-cd40-89e5bb128d08"
      },
      "execution_count": 46,
      "outputs": [
        {
          "output_type": "stream",
          "name": "stdout",
          "text": [
            "Inteligencia Artificial 6504\n",
            "Futebol 11387\n",
            "Aprendizado de maquinas 4215\n",
            "Voleibol 4893\n"
          ]
        }
      ]
    },
    {
      "cell_type": "code",
      "source": [
        "# distancia euclidiana\n",
        "print(\"Inteligencia Artificial x Futebol\", euclidean_distance(X[0], X[1]))\n",
        "print(\"Inteligencia Artificial x Aprendizado de maquinas\", euclidean_distance(X[0], X[2]))\n",
        "print(\"Inteligencia Artificial x Voleibol\", euclidean_distance(X[0], X[3]))"
      ],
      "metadata": {
        "colab": {
          "base_uri": "https://localhost:8080/"
        },
        "id": "LZqXGhAM1yT6",
        "outputId": "bad193e6-b220-44ea-fc74-251764a66ce8"
      },
      "execution_count": 49,
      "outputs": [
        {
          "output_type": "stream",
          "name": "stdout",
          "text": [
            "Inteligencia Artificial x Futebol 516.2770574023215\n",
            "Inteligencia Artificial x Aprendizado de maquinas 259.62087743477025\n",
            "Inteligencia Artificial x Voleibol 310.8938725674728\n"
          ]
        }
      ]
    },
    {
      "cell_type": "code",
      "source": [
        "# similaridade por cosenos\n",
        "print(\"Inteligencia Artificial x Futebol\", cosine_similarity(X[0], X[1]))\n",
        "print(\"Inteligencia Artificial x Aprendizado de maquinas\", cosine_similarity(X[0], X[2]))\n",
        "print(\"Inteligencia Artificial x Voleibol\", cosine_similarity(X[0], X[3]))"
      ],
      "metadata": {
        "colab": {
          "base_uri": "https://localhost:8080/"
        },
        "id": "SCSp3-Be3KGS",
        "outputId": "2090afe4-bb11-4a29-ecfb-a6832ff534bd"
      },
      "execution_count": 50,
      "outputs": [
        {
          "output_type": "stream",
          "name": "stdout",
          "text": [
            "Inteligencia Artificial x Futebol 0.8457010739101739\n",
            "Inteligencia Artificial x Aprendizado de maquinas 0.8824933789910663\n",
            "Inteligencia Artificial x Voleibol 0.8199388844370965\n"
          ]
        }
      ]
    },
    {
      "cell_type": "code",
      "source": [
        "# categorizando um tweet\n",
        "tweet = 'romário e ronaldo são os melhores atacantes que já vi jogar... dentro da pequena área era sempre gol!'\n",
        "t = np.array(cv.transform([tweet]).todense())[0]"
      ],
      "metadata": {
        "id": "dowzW7dk3hGa"
      },
      "execution_count": 52,
      "outputs": []
    },
    {
      "cell_type": "code",
      "source": [
        "t"
      ],
      "metadata": {
        "colab": {
          "base_uri": "https://localhost:8080/"
        },
        "id": "JVW55CfY37I2",
        "outputId": "32d8722d-398f-4369-d14a-ea071765fc7e"
      },
      "execution_count": 53,
      "outputs": [
        {
          "output_type": "execute_result",
          "data": {
            "text/plain": [
              "array([0, 0, 0, ..., 0, 0, 0])"
            ]
          },
          "metadata": {},
          "execution_count": 53
        }
      ]
    },
    {
      "cell_type": "code",
      "source": [],
      "metadata": {
        "id": "dNpOJUxi41kh"
      },
      "execution_count": null,
      "outputs": []
    },
    {
      "cell_type": "code",
      "source": [
        "# tweets por euclidiana\n",
        "print(\"tweet - IA\", euclidean_distance(t, X[0]))\n",
        "print(\"tweet - Futebol\", euclidean_distance(t, X[1]))\n",
        "print(\"tweet - Aprendizado de maquinas\", euclidean_distance(t, X[2]))\n",
        "print(\"tweet - Voleibol\", euclidean_distance(t, X[3]))"
      ],
      "metadata": {
        "colab": {
          "base_uri": "https://localhost:8080/"
        },
        "id": "xmDqcoCq3-UG",
        "outputId": "4c0199bd-6c0b-4a9c-d593-278807cb00e9"
      },
      "execution_count": 54,
      "outputs": [
        {
          "output_type": "stream",
          "name": "stdout",
          "text": [
            "tweet - IA 535.4568143183911\n",
            "tweet - Futebol 882.4545314065762\n",
            "tweet - Aprendizado de maquinas 410.8807612921296\n",
            "tweet - Voleibol 389.29038005067633\n"
          ]
        }
      ]
    },
    {
      "cell_type": "code",
      "source": [
        "# tweets por similaridade por cosseno\n",
        "print(\"tweet - IA\", cosine_similarity(t, X[0]))\n",
        "print(\"tweet - Futebol\", cosine_similarity(t, X[1]))\n",
        "print(\"tweet - Aprendizado de maquinas\", cosine_similarity(t, X[2]))\n",
        "print(\"tweet - Voleibol\", cosine_similarity(t, X[3]))"
      ],
      "metadata": {
        "colab": {
          "base_uri": "https://localhost:8080/"
        },
        "id": "5UEexzVa4QrV",
        "outputId": "0f5a6369-1353-4212-9aa5-1fdbfdcfc52c"
      },
      "execution_count": 56,
      "outputs": [
        {
          "output_type": "stream",
          "name": "stdout",
          "text": [
            "tweet - IA 0.17626604211188734\n",
            "tweet - Futebol 0.1821407359578821\n",
            "tweet - Aprendizado de maquinas 0.11487847221535176\n",
            "tweet - Voleibol 0.17612572829119968\n"
          ]
        }
      ]
    },
    {
      "cell_type": "markdown",
      "source": [
        "# o mau da dimesionalidade"
      ],
      "metadata": {
        "id": "o5Me1XyR5moZ"
      }
    },
    {
      "cell_type": "code",
      "source": [
        "n= 1000\n",
        "user_a = np.ones(n)\n",
        "user_b = np.zeros(n)\n",
        "euclidean_distance = np.sqrt(np.cumsum((user_a - user_b)**2))\n",
        "print(euclidean_distance)"
      ],
      "metadata": {
        "colab": {
          "base_uri": "https://localhost:8080/"
        },
        "collapsed": true,
        "id": "8kdfYOfh5lJ6",
        "outputId": "f96513e3-f0fd-4841-dcdd-7cead345b6c2"
      },
      "execution_count": 60,
      "outputs": [
        {
          "output_type": "stream",
          "name": "stdout",
          "text": [
            "[ 1.          1.41421356  1.73205081  2.          2.23606798  2.44948974\n",
            "  2.64575131  2.82842712  3.          3.16227766  3.31662479  3.46410162\n",
            "  3.60555128  3.74165739  3.87298335  4.          4.12310563  4.24264069\n",
            "  4.35889894  4.47213595  4.58257569  4.69041576  4.79583152  4.89897949\n",
            "  5.          5.09901951  5.19615242  5.29150262  5.38516481  5.47722558\n",
            "  5.56776436  5.65685425  5.74456265  5.83095189  5.91607978  6.\n",
            "  6.08276253  6.164414    6.244998    6.32455532  6.40312424  6.4807407\n",
            "  6.55743852  6.63324958  6.70820393  6.78232998  6.8556546   6.92820323\n",
            "  7.          7.07106781  7.14142843  7.21110255  7.28010989  7.34846923\n",
            "  7.41619849  7.48331477  7.54983444  7.61577311  7.68114575  7.74596669\n",
            "  7.81024968  7.87400787  7.93725393  8.          8.06225775  8.1240384\n",
            "  8.18535277  8.24621125  8.30662386  8.36660027  8.42614977  8.48528137\n",
            "  8.54400375  8.60232527  8.66025404  8.71779789  8.77496439  8.83176087\n",
            "  8.88819442  8.94427191  9.          9.05538514  9.11043358  9.16515139\n",
            "  9.21954446  9.2736185   9.32737905  9.38083152  9.43398113  9.48683298\n",
            "  9.53939201  9.59166305  9.64365076  9.69535971  9.74679434  9.79795897\n",
            "  9.8488578   9.89949494  9.94987437 10.         10.04987562 10.09950494\n",
            " 10.14889157 10.19803903 10.24695077 10.29563014 10.34408043 10.39230485\n",
            " 10.44030651 10.48808848 10.53565375 10.58300524 10.63014581 10.67707825\n",
            " 10.72380529 10.77032961 10.81665383 10.86278049 10.90871211 10.95445115\n",
            " 11.         11.04536102 11.09053651 11.13552873 11.18033989 11.22497216\n",
            " 11.26942767 11.3137085  11.35781669 11.40175425 11.44552314 11.48912529\n",
            " 11.53256259 11.5758369  11.61895004 11.66190379 11.70469991 11.74734012\n",
            " 11.78982612 11.83215957 11.87434209 11.91637529 11.95826074 12.\n",
            " 12.04159458 12.08304597 12.12435565 12.16552506 12.20655562 12.24744871\n",
            " 12.28820573 12.32882801 12.36931688 12.40967365 12.4498996  12.489996\n",
            " 12.52996409 12.56980509 12.60952021 12.64911064 12.68857754 12.72792206\n",
            " 12.76714533 12.80624847 12.84523258 12.88409873 12.92284798 12.9614814\n",
            " 13.         13.03840481 13.07669683 13.11487705 13.15294644 13.19090596\n",
            " 13.22875656 13.26649916 13.3041347  13.34166406 13.37908816 13.41640786\n",
            " 13.45362405 13.49073756 13.52774926 13.56465997 13.60147051 13.6381817\n",
            " 13.67479433 13.7113092  13.74772708 13.78404875 13.82027496 13.85640646\n",
            " 13.89244399 13.92838828 13.96424004 14.         14.03566885 14.07124728\n",
            " 14.10673598 14.14213562 14.17744688 14.2126704  14.24780685 14.28285686\n",
            " 14.31782106 14.35270009 14.38749457 14.4222051  14.45683229 14.49137675\n",
            " 14.52583905 14.56021978 14.59451952 14.62873884 14.6628783  14.69693846\n",
            " 14.73091986 14.76482306 14.79864859 14.83239697 14.86606875 14.89966443\n",
            " 14.93318452 14.96662955 15.         15.03329638 15.06651917 15.09966887\n",
            " 15.13274595 15.16575089 15.19868415 15.23154621 15.26433752 15.29705854\n",
            " 15.32970972 15.3622915  15.39480432 15.42724862 15.45962483 15.49193338\n",
            " 15.5241747  15.55634919 15.58845727 15.62049935 15.65247584 15.68438714\n",
            " 15.71623365 15.74801575 15.77973384 15.8113883  15.84297952 15.87450787\n",
            " 15.90597372 15.93737745 15.96871942 16.         16.03121954 16.0623784\n",
            " 16.09347694 16.1245155  16.15549442 16.18641406 16.21727474 16.24807681\n",
            " 16.2788206  16.30950643 16.34013464 16.37070554 16.40121947 16.43167673\n",
            " 16.46207763 16.4924225  16.52271164 16.55294536 16.58312395 16.61324773\n",
            " 16.64331698 16.673332   16.70329309 16.73320053 16.76305461 16.79285562\n",
            " 16.82260384 16.85229955 16.88194302 16.91153453 16.94107435 16.97056275\n",
            " 17.         17.02938637 17.05872211 17.08800749 17.11724277 17.1464282\n",
            " 17.17556404 17.20465053 17.23368794 17.2626765  17.29161647 17.32050808\n",
            " 17.34935157 17.3781472  17.40689519 17.43559577 17.4642492  17.49285568\n",
            " 17.52141547 17.54992877 17.57839583 17.60681686 17.63519209 17.66352173\n",
            " 17.69180601 17.72004515 17.74823935 17.77638883 17.80449381 17.8325545\n",
            " 17.8605711  17.88854382 17.91647287 17.94435844 17.97220076 18.\n",
            " 18.02775638 18.05547009 18.08314132 18.11077028 18.13835715 18.16590212\n",
            " 18.1934054  18.22086716 18.24828759 18.27566688 18.30300522 18.33030278\n",
            " 18.35755975 18.38477631 18.41195264 18.43908891 18.46618531 18.49324201\n",
            " 18.52025918 18.54723699 18.57417562 18.60107524 18.62793601 18.65475811\n",
            " 18.68154169 18.70828693 18.734994   18.76166304 18.78829423 18.81488772\n",
            " 18.84144368 18.86796226 18.89444363 18.92088793 18.94729532 18.97366596\n",
            " 19.         19.02629759 19.05255888 19.07878403 19.10497317 19.13112647\n",
            " 19.15724406 19.18332609 19.20937271 19.23538406 19.26136028 19.28730152\n",
            " 19.31320792 19.33907961 19.36491673 19.39071943 19.41648784 19.4422221\n",
            " 19.46792233 19.49358869 19.5192213  19.54482029 19.57038579 19.59591794\n",
            " 19.62141687 19.6468827  19.67231557 19.6977156  19.72308292 19.74841766\n",
            " 19.77371993 19.79898987 19.8242276  19.84943324 19.87460691 19.89974874\n",
            " 19.92485885 19.94993734 19.97498436 20.         20.02498439 20.04993766\n",
            " 20.0748599  20.09975124 20.1246118  20.14944168 20.174241   20.19900988\n",
            " 20.22374842 20.24845673 20.27313493 20.29778313 20.32240143 20.34698995\n",
            " 20.37154879 20.39607805 20.42057786 20.4450483  20.46948949 20.49390153\n",
            " 20.51828453 20.54263858 20.5669638  20.59126028 20.61552813 20.63976744\n",
            " 20.66397832 20.68816087 20.71231518 20.73644135 20.76053949 20.78460969\n",
            " 20.80865205 20.83266666 20.85665361 20.88061302 20.90454496 20.92844954\n",
            " 20.95232684 20.97617696 21.         21.02379604 21.04756518 21.07130751\n",
            " 21.09502311 21.11871208 21.14237451 21.16601049 21.1896201  21.21320344\n",
            " 21.23676058 21.26029163 21.28379665 21.30727575 21.33072901 21.3541565\n",
            " 21.37755833 21.40093456 21.42428529 21.44761059 21.47091055 21.49418526\n",
            " 21.51743479 21.54065923 21.56385865 21.58703314 21.61018278 21.63330765\n",
            " 21.65640783 21.67948339 21.70253441 21.72556098 21.74856317 21.77154106\n",
            " 21.79449472 21.81742423 21.84032967 21.86321111 21.88606863 21.9089023\n",
            " 21.9317122  21.9544984  21.97726098 22.         22.02271555 22.04540769\n",
            " 22.06807649 22.09072203 22.11334439 22.13594362 22.15851981 22.18107301\n",
            " 22.20360331 22.22611077 22.24859546 22.27105745 22.29349681 22.3159136\n",
            " 22.3383079  22.36067977 22.38302929 22.4053565  22.42766149 22.44994432\n",
            " 22.47220505 22.49444376 22.5166605  22.53885534 22.56102835 22.58317958\n",
            " 22.60530911 22.627417   22.64950331 22.6715681  22.69361144 22.71563338\n",
            " 22.737634   22.75961335 22.7815715  22.8035085  22.82542442 22.84731932\n",
            " 22.86919325 22.89104628 22.91287847 22.93468988 22.95648057 22.97825059\n",
            " 23.         23.02172887 23.04343724 23.06512519 23.08679276 23.10844002\n",
            " 23.13006701 23.15167381 23.17326045 23.19482701 23.21637353 23.23790008\n",
            " 23.2594067  23.28089345 23.3023604  23.32380758 23.34523506 23.36664289\n",
            " 23.38803113 23.40939982 23.43074903 23.4520788  23.47338919 23.49468025\n",
            " 23.51595203 23.53720459 23.55843798 23.57965225 23.60084744 23.62202362\n",
            " 23.64318084 23.66431913 23.68543856 23.70653918 23.72762104 23.74868417\n",
            " 23.76972865 23.79075451 23.8117618  23.83275058 23.85372088 23.87467277\n",
            " 23.89560629 23.91652149 23.93741841 23.9582971  23.97915762 24.\n",
            " 24.0208243  24.04163056 24.06241883 24.08318916 24.10394159 24.12467616\n",
            " 24.14539294 24.16609195 24.18677324 24.20743687 24.22808288 24.24871131\n",
            " 24.2693222  24.2899156  24.31049156 24.33105012 24.35159132 24.37211521\n",
            " 24.39262184 24.41311123 24.43358345 24.45403852 24.4744765  24.49489743\n",
            " 24.51530134 24.53568829 24.55605832 24.57641145 24.59674775 24.61706725\n",
            " 24.63736999 24.65765601 24.67792536 24.69817807 24.71841419 24.73863375\n",
            " 24.75883681 24.77902339 24.79919354 24.81934729 24.8394847  24.85960579\n",
            " 24.87971061 24.8997992  24.91987159 24.93992783 24.95996795 24.97999199\n",
            " 25.         25.01999201 25.03996805 25.05992817 25.07987241 25.0998008\n",
            " 25.11971337 25.13961018 25.15949125 25.17935662 25.19920634 25.21904043\n",
            " 25.23885893 25.25866188 25.27844932 25.29822128 25.3179778  25.33771892\n",
            " 25.35744467 25.37715508 25.3968502  25.41653005 25.43619468 25.45584412\n",
            " 25.47547841 25.49509757 25.51470164 25.53429067 25.55386468 25.57342371\n",
            " 25.59296778 25.61249695 25.63201124 25.65151068 25.67099531 25.69046516\n",
            " 25.70992026 25.72936066 25.74878638 25.76819745 25.78759392 25.8069758\n",
            " 25.82634314 25.84569597 25.86503431 25.88435821 25.90366769 25.92296279\n",
            " 25.94224354 25.96150997 25.98076211 26.         26.01922366 26.03843313\n",
            " 26.05762844 26.07680962 26.0959767  26.11512971 26.13426869 26.15339366\n",
            " 26.17250466 26.19160171 26.21068484 26.2297541  26.2488095  26.26785107\n",
            " 26.28687886 26.30589288 26.32489316 26.34387974 26.36285265 26.38181192\n",
            " 26.40075756 26.41968963 26.43860813 26.45751311 26.47640459 26.4952826\n",
            " 26.51414717 26.53299832 26.55183609 26.57066051 26.5894716  26.60826939\n",
            " 26.62705391 26.64582519 26.66458325 26.68332813 26.70205985 26.72077843\n",
            " 26.73948391 26.75817632 26.77685568 26.79552201 26.81417536 26.83281573\n",
            " 26.85144316 26.87005769 26.88865932 26.90724809 26.92582404 26.94438717\n",
            " 26.96293753 26.98147513 27.         27.01851217 27.03701167 27.05549852\n",
            " 27.07397274 27.09243437 27.11088342 27.12931993 27.14774392 27.16615541\n",
            " 27.18455444 27.20294102 27.22131518 27.23967694 27.25802634 27.27636339\n",
            " 27.29468813 27.31300057 27.33130074 27.34958866 27.36786437 27.38612788\n",
            " 27.40437921 27.4226184  27.44084547 27.45906044 27.47726333 27.49545417\n",
            " 27.51363298 27.5317998  27.54995463 27.5680975  27.58622845 27.60434748\n",
            " 27.62245463 27.64054992 27.65863337 27.67670501 27.69476485 27.71281292\n",
            " 27.73084925 27.74887385 27.76688675 27.78488798 27.80287755 27.82085549\n",
            " 27.83882181 27.85677655 27.87471973 27.89265136 27.91057147 27.92848009\n",
            " 27.94637722 27.96426291 27.98213716 28.         28.01785145 28.03569154\n",
            " 28.05352028 28.0713377  28.08914381 28.10693865 28.12472222 28.14249456\n",
            " 28.16025568 28.17800561 28.19574436 28.21347196 28.23118843 28.24889378\n",
            " 28.26658805 28.28427125 28.3019434  28.31960452 28.33725463 28.35489376\n",
            " 28.37252192 28.39013913 28.40774542 28.42534081 28.44292531 28.46049894\n",
            " 28.47806173 28.4956137  28.51315486 28.53068524 28.54820485 28.56571371\n",
            " 28.58321186 28.60069929 28.61817604 28.63564213 28.65309756 28.67054237\n",
            " 28.68797658 28.70540019 28.72281323 28.74021573 28.75760769 28.77498914\n",
            " 28.7923601  28.80972058 28.82707061 28.8444102  28.86173938 28.87905816\n",
            " 28.89636655 28.91366459 28.93095228 28.94822965 28.96549672 28.98275349\n",
            " 29.         29.01723626 29.03446228 29.05167809 29.06888371 29.08607914\n",
            " 29.10326442 29.12043956 29.13760457 29.15475947 29.17190429 29.18903904\n",
            " 29.20616373 29.22327839 29.24038303 29.25747768 29.27456234 29.29163703\n",
            " 29.30870178 29.3257566  29.3428015  29.35983651 29.37686164 29.39387691\n",
            " 29.41088234 29.42787794 29.44486373 29.46183973 29.47880595 29.49576241\n",
            " 29.51270913 29.52964612 29.54657341 29.563491   29.58039892 29.59729717\n",
            " 29.61418579 29.63106478 29.64793416 29.66479395 29.68164416 29.69848481\n",
            " 29.71531592 29.73213749 29.74894956 29.76575213 29.78254522 29.79932885\n",
            " 29.81610303 29.83286778 29.84962311 29.86636905 29.88310559 29.89983278\n",
            " 29.9165506  29.93325909 29.94995826 29.96664813 29.9833287  30.\n",
            " 30.01666204 30.03331484 30.0499584  30.06659276 30.08321791 30.09983389\n",
            " 30.11644069 30.13303835 30.14962686 30.16620626 30.18277655 30.19933774\n",
            " 30.21588986 30.23243292 30.24896692 30.2654919  30.28200786 30.29851482\n",
            " 30.31501278 30.33150178 30.34798181 30.3644529  30.38091506 30.39736831\n",
            " 30.41381265 30.43024811 30.4466747  30.46309242 30.47950131 30.49590136\n",
            " 30.5122926  30.52867504 30.5450487  30.56141358 30.5777697  30.59411708\n",
            " 30.61045573 30.62678566 30.64310689 30.65941943 30.6757233  30.69201851\n",
            " 30.70830507 30.72458299 30.7408523  30.757113   30.77336511 30.78960864\n",
            " 30.8058436  30.82207001 30.83828789 30.85449724 30.87069808 30.88689042\n",
            " 30.90307428 30.91924967 30.9354166  30.95157508 30.96772513 30.98386677\n",
            " 31.         31.01612484 31.0322413  31.04834939 31.06444913 31.08054054\n",
            " 31.09662361 31.11269837 31.12876483 31.144823   31.1608729  31.17691454\n",
            " 31.19294792 31.20897307 31.22498999 31.2409987  31.25699922 31.27299154\n",
            " 31.28897569 31.30495168 31.32091953 31.33687923 31.35283081 31.36877428\n",
            " 31.38470965 31.40063694 31.41655614 31.43246729 31.44837039 31.46426545\n",
            " 31.48015248 31.4960315  31.51190251 31.52776554 31.54362059 31.55946768\n",
            " 31.57530681 31.591138   31.60696126 31.6227766 ]\n"
          ]
        }
      ]
    },
    {
      "cell_type": "code",
      "source": [
        "# plot\n",
        "plt.figure(figsize=(10,5))\n",
        "plt.plot(euclidean_distance, '.', label='Distancia euclidiana')\n",
        "plt.xlabel('Dimesao $n$')\n",
        "plt.ylabel('Distância')\n",
        "plt.grid()\n",
        "plt.show()"
      ],
      "metadata": {
        "colab": {
          "base_uri": "https://localhost:8080/",
          "height": 466
        },
        "id": "-xoO68QQ6fGB",
        "outputId": "756da6b0-b9ed-4f89-dafa-e770f3ce961d"
      },
      "execution_count": 61,
      "outputs": [
        {
          "output_type": "display_data",
          "data": {
            "text/plain": [
              "<Figure size 1000x500 with 1 Axes>"
            ],
            "image/png": "[encoded data removed]"
          },
          "metadata": {}
        }
      ]
    }
  ]
}